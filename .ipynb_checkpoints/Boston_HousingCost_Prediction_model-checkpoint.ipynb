{
 "cells": [
  {
   "cell_type": "markdown",
   "metadata": {},
   "source": [
    "# 보스턴주 부동산 가격 예측\n",
    "\n",
    "MEDV 주택가격(목표 변수)  \n",
    "CRIM 범죄율  \n",
    "ZN 주거지 비율  \n",
    "INDUS 비소매업 비율  \n",
    "CHAS 강 조망 여부(1-조망,0-비조망)  \n",
    "NOX 산화질소 농도  \n",
    "RM 주거당 평균 객실 수  \n",
    "AGE 노후 건물 비율  \n",
    "DIS 중심지(노동센터) 접근 거리  \n",
    "RAD 고속도로 접근 편이성 지수  \n",
    "TAX 재산세율  \n",
    "PTRATIO 학생당 교사 비율  \n",
    "B 흑인 인구 비율  \n",
    "LSTAT 저소득층 비율  \n",
    "\n",
    "다음과 같은 설명 변수 중에서 의미 있는 변수를 채택하여 가격을 예측하는 모델을 만드는 것이 목적이다.    \n",
    "\n",
    "I am trying to train a cost prediction model with my insights I got from analyzing each variable. "
   ]
  },
  {
   "cell_type": "code",
   "execution_count": 1,
   "metadata": {},
   "outputs": [],
   "source": [
    "# 데이터 구성\n",
    "import pandas as pd\n",
    "import numpy as np\n",
    "\n",
    "# 데이터 시각화\n",
    "import matplotlib.pyplot as plt\n",
    "import matplotlib\n",
    "import seaborn as sns\n",
    "\n",
    "#데이터 분할 : train, test\n",
    "from sklearn.model_selection import train_test_split\n",
    "\n",
    "# 회귀 분석\n",
    "import statsmodels.formula.api as smf\n",
    "# Decision Tree\n",
    "from sklearn.tree import DecisionTreeRegressor\n",
    "\n",
    "#Random Forest\n",
    "from sklearn.ensemble import RandomForestRegressor\n",
    "\n",
    "# Gradient Boosting\n",
    "from sklearn.ensemble import GradientBoostingRegressor\n",
    "\n",
    "# 평가 함수\n",
    "from sklearn.metrics import mean_squared_error\n",
    "from sklearn.metrics import mean_absolute_error\n",
    "\n",
    "# 데이터 표준화\n",
    "from sklearn.preprocessing import RobustScaler\n",
    "from sklearn.preprocessing import scale, minmax_scale, robust_scale\n",
    "\n",
    "from statsmodels.api import qqplot, add_constant\n",
    "from statsmodels.stats.outliers_influence import variance_inflation_factor\n",
    "\n",
    "# 최적 모델, 파라미터 탐색\n",
    "from sklearn.model_selection import GridSearchCV"
   ]
  },
  {
   "cell_type": "code",
   "execution_count": 2,
   "metadata": {},
   "outputs": [],
   "source": [
    "df_raw = pd.read_csv('Data/BOSTON_HOUSING.csv', engine = 'python')"
   ]
  },
  {
   "cell_type": "code",
   "execution_count": 3,
   "metadata": {},
   "outputs": [
    {
     "data": {
      "text/html": [
       "<div>\n",
       "<style scoped>\n",
       "    .dataframe tbody tr th:only-of-type {\n",
       "        vertical-align: middle;\n",
       "    }\n",
       "\n",
       "    .dataframe tbody tr th {\n",
       "        vertical-align: top;\n",
       "    }\n",
       "\n",
       "    .dataframe thead th {\n",
       "        text-align: right;\n",
       "    }\n",
       "</style>\n",
       "<table border=\"1\" class=\"dataframe\">\n",
       "  <thead>\n",
       "    <tr style=\"text-align: right;\">\n",
       "      <th></th>\n",
       "      <th>MEDV</th>\n",
       "      <th>CRIM</th>\n",
       "      <th>ZN</th>\n",
       "      <th>INDUS</th>\n",
       "      <th>CHAS</th>\n",
       "      <th>NOX</th>\n",
       "      <th>RM</th>\n",
       "      <th>AGE</th>\n",
       "      <th>DIS</th>\n",
       "      <th>RAD</th>\n",
       "      <th>TAX</th>\n",
       "      <th>PTRATIO</th>\n",
       "      <th>B</th>\n",
       "      <th>LSTAT</th>\n",
       "    </tr>\n",
       "  </thead>\n",
       "  <tbody>\n",
       "    <tr>\n",
       "      <th>0</th>\n",
       "      <td>24.000000</td>\n",
       "      <td>0.00632</td>\n",
       "      <td>18.0</td>\n",
       "      <td>2.31</td>\n",
       "      <td>0</td>\n",
       "      <td>0.538</td>\n",
       "      <td>6.575</td>\n",
       "      <td>65.199997</td>\n",
       "      <td>4.0900</td>\n",
       "      <td>1</td>\n",
       "      <td>296</td>\n",
       "      <td>15.300000</td>\n",
       "      <td>396.899994</td>\n",
       "      <td>4.98</td>\n",
       "    </tr>\n",
       "    <tr>\n",
       "      <th>1</th>\n",
       "      <td>21.600000</td>\n",
       "      <td>0.02731</td>\n",
       "      <td>0.0</td>\n",
       "      <td>7.07</td>\n",
       "      <td>0</td>\n",
       "      <td>0.469</td>\n",
       "      <td>6.421</td>\n",
       "      <td>78.900002</td>\n",
       "      <td>4.9671</td>\n",
       "      <td>2</td>\n",
       "      <td>242</td>\n",
       "      <td>17.799999</td>\n",
       "      <td>396.899994</td>\n",
       "      <td>9.14</td>\n",
       "    </tr>\n",
       "    <tr>\n",
       "      <th>2</th>\n",
       "      <td>34.700001</td>\n",
       "      <td>0.02729</td>\n",
       "      <td>0.0</td>\n",
       "      <td>7.07</td>\n",
       "      <td>0</td>\n",
       "      <td>0.469</td>\n",
       "      <td>7.185</td>\n",
       "      <td>61.099998</td>\n",
       "      <td>4.9671</td>\n",
       "      <td>2</td>\n",
       "      <td>242</td>\n",
       "      <td>17.799999</td>\n",
       "      <td>392.829987</td>\n",
       "      <td>4.03</td>\n",
       "    </tr>\n",
       "    <tr>\n",
       "      <th>3</th>\n",
       "      <td>33.400002</td>\n",
       "      <td>0.03237</td>\n",
       "      <td>0.0</td>\n",
       "      <td>2.18</td>\n",
       "      <td>0</td>\n",
       "      <td>0.458</td>\n",
       "      <td>6.998</td>\n",
       "      <td>45.799999</td>\n",
       "      <td>6.0622</td>\n",
       "      <td>3</td>\n",
       "      <td>222</td>\n",
       "      <td>18.700001</td>\n",
       "      <td>394.630005</td>\n",
       "      <td>2.94</td>\n",
       "    </tr>\n",
       "    <tr>\n",
       "      <th>4</th>\n",
       "      <td>36.200001</td>\n",
       "      <td>0.06905</td>\n",
       "      <td>0.0</td>\n",
       "      <td>2.18</td>\n",
       "      <td>0</td>\n",
       "      <td>0.458</td>\n",
       "      <td>7.147</td>\n",
       "      <td>54.200001</td>\n",
       "      <td>6.0622</td>\n",
       "      <td>3</td>\n",
       "      <td>222</td>\n",
       "      <td>18.700001</td>\n",
       "      <td>396.899994</td>\n",
       "      <td>5.33</td>\n",
       "    </tr>\n",
       "    <tr>\n",
       "      <th>...</th>\n",
       "      <td>...</td>\n",
       "      <td>...</td>\n",
       "      <td>...</td>\n",
       "      <td>...</td>\n",
       "      <td>...</td>\n",
       "      <td>...</td>\n",
       "      <td>...</td>\n",
       "      <td>...</td>\n",
       "      <td>...</td>\n",
       "      <td>...</td>\n",
       "      <td>...</td>\n",
       "      <td>...</td>\n",
       "      <td>...</td>\n",
       "      <td>...</td>\n",
       "    </tr>\n",
       "    <tr>\n",
       "      <th>501</th>\n",
       "      <td>22.400000</td>\n",
       "      <td>0.06263</td>\n",
       "      <td>0.0</td>\n",
       "      <td>11.93</td>\n",
       "      <td>0</td>\n",
       "      <td>0.573</td>\n",
       "      <td>6.593</td>\n",
       "      <td>69.099998</td>\n",
       "      <td>2.4786</td>\n",
       "      <td>1</td>\n",
       "      <td>273</td>\n",
       "      <td>21.000000</td>\n",
       "      <td>391.989990</td>\n",
       "      <td>9.67</td>\n",
       "    </tr>\n",
       "    <tr>\n",
       "      <th>502</th>\n",
       "      <td>20.600000</td>\n",
       "      <td>0.04527</td>\n",
       "      <td>0.0</td>\n",
       "      <td>11.93</td>\n",
       "      <td>0</td>\n",
       "      <td>0.573</td>\n",
       "      <td>6.120</td>\n",
       "      <td>76.699997</td>\n",
       "      <td>2.2875</td>\n",
       "      <td>1</td>\n",
       "      <td>273</td>\n",
       "      <td>21.000000</td>\n",
       "      <td>396.899994</td>\n",
       "      <td>9.08</td>\n",
       "    </tr>\n",
       "    <tr>\n",
       "      <th>503</th>\n",
       "      <td>23.900000</td>\n",
       "      <td>0.06076</td>\n",
       "      <td>0.0</td>\n",
       "      <td>11.93</td>\n",
       "      <td>0</td>\n",
       "      <td>0.573</td>\n",
       "      <td>6.976</td>\n",
       "      <td>91.000000</td>\n",
       "      <td>2.1675</td>\n",
       "      <td>1</td>\n",
       "      <td>273</td>\n",
       "      <td>21.000000</td>\n",
       "      <td>396.899994</td>\n",
       "      <td>5.64</td>\n",
       "    </tr>\n",
       "    <tr>\n",
       "      <th>504</th>\n",
       "      <td>22.000000</td>\n",
       "      <td>0.10959</td>\n",
       "      <td>0.0</td>\n",
       "      <td>11.93</td>\n",
       "      <td>0</td>\n",
       "      <td>0.573</td>\n",
       "      <td>6.794</td>\n",
       "      <td>89.300003</td>\n",
       "      <td>2.3889</td>\n",
       "      <td>1</td>\n",
       "      <td>273</td>\n",
       "      <td>21.000000</td>\n",
       "      <td>393.450012</td>\n",
       "      <td>6.48</td>\n",
       "    </tr>\n",
       "    <tr>\n",
       "      <th>505</th>\n",
       "      <td>11.900000</td>\n",
       "      <td>0.04741</td>\n",
       "      <td>0.0</td>\n",
       "      <td>11.93</td>\n",
       "      <td>0</td>\n",
       "      <td>0.573</td>\n",
       "      <td>6.030</td>\n",
       "      <td>80.800003</td>\n",
       "      <td>2.5050</td>\n",
       "      <td>1</td>\n",
       "      <td>273</td>\n",
       "      <td>21.000000</td>\n",
       "      <td>396.899994</td>\n",
       "      <td>7.88</td>\n",
       "    </tr>\n",
       "  </tbody>\n",
       "</table>\n",
       "<p>506 rows × 14 columns</p>\n",
       "</div>"
      ],
      "text/plain": [
       "          MEDV     CRIM    ZN  INDUS  CHAS    NOX     RM        AGE     DIS  \\\n",
       "0    24.000000  0.00632  18.0   2.31     0  0.538  6.575  65.199997  4.0900   \n",
       "1    21.600000  0.02731   0.0   7.07     0  0.469  6.421  78.900002  4.9671   \n",
       "2    34.700001  0.02729   0.0   7.07     0  0.469  7.185  61.099998  4.9671   \n",
       "3    33.400002  0.03237   0.0   2.18     0  0.458  6.998  45.799999  6.0622   \n",
       "4    36.200001  0.06905   0.0   2.18     0  0.458  7.147  54.200001  6.0622   \n",
       "..         ...      ...   ...    ...   ...    ...    ...        ...     ...   \n",
       "501  22.400000  0.06263   0.0  11.93     0  0.573  6.593  69.099998  2.4786   \n",
       "502  20.600000  0.04527   0.0  11.93     0  0.573  6.120  76.699997  2.2875   \n",
       "503  23.900000  0.06076   0.0  11.93     0  0.573  6.976  91.000000  2.1675   \n",
       "504  22.000000  0.10959   0.0  11.93     0  0.573  6.794  89.300003  2.3889   \n",
       "505  11.900000  0.04741   0.0  11.93     0  0.573  6.030  80.800003  2.5050   \n",
       "\n",
       "     RAD  TAX    PTRATIO           B  LSTAT  \n",
       "0      1  296  15.300000  396.899994   4.98  \n",
       "1      2  242  17.799999  396.899994   9.14  \n",
       "2      2  242  17.799999  392.829987   4.03  \n",
       "3      3  222  18.700001  394.630005   2.94  \n",
       "4      3  222  18.700001  396.899994   5.33  \n",
       "..   ...  ...        ...         ...    ...  \n",
       "501    1  273  21.000000  391.989990   9.67  \n",
       "502    1  273  21.000000  396.899994   9.08  \n",
       "503    1  273  21.000000  396.899994   5.64  \n",
       "504    1  273  21.000000  393.450012   6.48  \n",
       "505    1  273  21.000000  396.899994   7.88  \n",
       "\n",
       "[506 rows x 14 columns]"
      ]
     },
     "execution_count": 3,
     "metadata": {},
     "output_type": "execute_result"
    }
   ],
   "source": [
    "df_raw"
   ]
  },
  {
   "cell_type": "markdown",
   "metadata": {},
   "source": [
    "Raw 데이터를 확인합니다."
   ]
  },
  {
   "cell_type": "markdown",
   "metadata": {},
   "source": [
    "# 탐색적 분석"
   ]
  },
  {
   "cell_type": "code",
   "execution_count": 4,
   "metadata": {},
   "outputs": [
    {
     "data": {
      "text/html": [
       "<div>\n",
       "<style scoped>\n",
       "    .dataframe tbody tr th:only-of-type {\n",
       "        vertical-align: middle;\n",
       "    }\n",
       "\n",
       "    .dataframe tbody tr th {\n",
       "        vertical-align: top;\n",
       "    }\n",
       "\n",
       "    .dataframe thead th {\n",
       "        text-align: right;\n",
       "    }\n",
       "</style>\n",
       "<table border=\"1\" class=\"dataframe\">\n",
       "  <thead>\n",
       "    <tr style=\"text-align: right;\">\n",
       "      <th></th>\n",
       "      <th>MEDV</th>\n",
       "      <th>CRIM</th>\n",
       "      <th>ZN</th>\n",
       "      <th>INDUS</th>\n",
       "      <th>CHAS</th>\n",
       "      <th>NOX</th>\n",
       "      <th>RM</th>\n",
       "      <th>AGE</th>\n",
       "      <th>DIS</th>\n",
       "      <th>RAD</th>\n",
       "      <th>TAX</th>\n",
       "      <th>PTRATIO</th>\n",
       "      <th>B</th>\n",
       "      <th>LSTAT</th>\n",
       "    </tr>\n",
       "  </thead>\n",
       "  <tbody>\n",
       "    <tr>\n",
       "      <th>count</th>\n",
       "      <td>506.000000</td>\n",
       "      <td>506.000000</td>\n",
       "      <td>506.000000</td>\n",
       "      <td>506.000000</td>\n",
       "      <td>506.000000</td>\n",
       "      <td>506.000000</td>\n",
       "      <td>506.000000</td>\n",
       "      <td>506.000000</td>\n",
       "      <td>506.000000</td>\n",
       "      <td>506.000000</td>\n",
       "      <td>506.000000</td>\n",
       "      <td>506.000000</td>\n",
       "      <td>506.000000</td>\n",
       "      <td>506.000000</td>\n",
       "    </tr>\n",
       "    <tr>\n",
       "      <th>mean</th>\n",
       "      <td>22.532806</td>\n",
       "      <td>3.613524</td>\n",
       "      <td>11.363636</td>\n",
       "      <td>11.136779</td>\n",
       "      <td>0.069170</td>\n",
       "      <td>0.554695</td>\n",
       "      <td>6.284634</td>\n",
       "      <td>68.574901</td>\n",
       "      <td>3.795043</td>\n",
       "      <td>9.549407</td>\n",
       "      <td>408.237154</td>\n",
       "      <td>18.455534</td>\n",
       "      <td>356.674030</td>\n",
       "      <td>12.653063</td>\n",
       "    </tr>\n",
       "    <tr>\n",
       "      <th>std</th>\n",
       "      <td>9.197104</td>\n",
       "      <td>8.601545</td>\n",
       "      <td>23.322453</td>\n",
       "      <td>6.860353</td>\n",
       "      <td>0.253994</td>\n",
       "      <td>0.115878</td>\n",
       "      <td>0.702617</td>\n",
       "      <td>28.148862</td>\n",
       "      <td>2.105710</td>\n",
       "      <td>8.707259</td>\n",
       "      <td>168.537116</td>\n",
       "      <td>2.164946</td>\n",
       "      <td>91.294863</td>\n",
       "      <td>7.141062</td>\n",
       "    </tr>\n",
       "    <tr>\n",
       "      <th>min</th>\n",
       "      <td>5.000000</td>\n",
       "      <td>0.006320</td>\n",
       "      <td>0.000000</td>\n",
       "      <td>0.460000</td>\n",
       "      <td>0.000000</td>\n",
       "      <td>0.385000</td>\n",
       "      <td>3.561000</td>\n",
       "      <td>2.900000</td>\n",
       "      <td>1.129600</td>\n",
       "      <td>1.000000</td>\n",
       "      <td>187.000000</td>\n",
       "      <td>12.600000</td>\n",
       "      <td>0.320000</td>\n",
       "      <td>1.730000</td>\n",
       "    </tr>\n",
       "    <tr>\n",
       "      <th>25%</th>\n",
       "      <td>17.025000</td>\n",
       "      <td>0.082045</td>\n",
       "      <td>0.000000</td>\n",
       "      <td>5.190000</td>\n",
       "      <td>0.000000</td>\n",
       "      <td>0.449000</td>\n",
       "      <td>5.885500</td>\n",
       "      <td>45.025000</td>\n",
       "      <td>2.100175</td>\n",
       "      <td>4.000000</td>\n",
       "      <td>279.000000</td>\n",
       "      <td>17.400000</td>\n",
       "      <td>375.377487</td>\n",
       "      <td>6.950000</td>\n",
       "    </tr>\n",
       "    <tr>\n",
       "      <th>50%</th>\n",
       "      <td>21.200001</td>\n",
       "      <td>0.256510</td>\n",
       "      <td>0.000000</td>\n",
       "      <td>9.690000</td>\n",
       "      <td>0.000000</td>\n",
       "      <td>0.538000</td>\n",
       "      <td>6.208500</td>\n",
       "      <td>77.500000</td>\n",
       "      <td>3.207450</td>\n",
       "      <td>5.000000</td>\n",
       "      <td>330.000000</td>\n",
       "      <td>19.050000</td>\n",
       "      <td>391.440002</td>\n",
       "      <td>11.360000</td>\n",
       "    </tr>\n",
       "    <tr>\n",
       "      <th>75%</th>\n",
       "      <td>25.000000</td>\n",
       "      <td>3.677083</td>\n",
       "      <td>12.500000</td>\n",
       "      <td>18.100000</td>\n",
       "      <td>0.000000</td>\n",
       "      <td>0.624000</td>\n",
       "      <td>6.623500</td>\n",
       "      <td>94.074999</td>\n",
       "      <td>5.188425</td>\n",
       "      <td>24.000000</td>\n",
       "      <td>666.000000</td>\n",
       "      <td>20.200001</td>\n",
       "      <td>396.225006</td>\n",
       "      <td>16.954999</td>\n",
       "    </tr>\n",
       "    <tr>\n",
       "      <th>max</th>\n",
       "      <td>50.000000</td>\n",
       "      <td>88.976196</td>\n",
       "      <td>100.000000</td>\n",
       "      <td>27.740000</td>\n",
       "      <td>1.000000</td>\n",
       "      <td>0.871000</td>\n",
       "      <td>8.780000</td>\n",
       "      <td>100.000000</td>\n",
       "      <td>12.126500</td>\n",
       "      <td>24.000000</td>\n",
       "      <td>711.000000</td>\n",
       "      <td>22.000000</td>\n",
       "      <td>396.899994</td>\n",
       "      <td>37.970001</td>\n",
       "    </tr>\n",
       "  </tbody>\n",
       "</table>\n",
       "</div>"
      ],
      "text/plain": [
       "             MEDV        CRIM          ZN       INDUS        CHAS         NOX  \\\n",
       "count  506.000000  506.000000  506.000000  506.000000  506.000000  506.000000   \n",
       "mean    22.532806    3.613524   11.363636   11.136779    0.069170    0.554695   \n",
       "std      9.197104    8.601545   23.322453    6.860353    0.253994    0.115878   \n",
       "min      5.000000    0.006320    0.000000    0.460000    0.000000    0.385000   \n",
       "25%     17.025000    0.082045    0.000000    5.190000    0.000000    0.449000   \n",
       "50%     21.200001    0.256510    0.000000    9.690000    0.000000    0.538000   \n",
       "75%     25.000000    3.677083   12.500000   18.100000    0.000000    0.624000   \n",
       "max     50.000000   88.976196  100.000000   27.740000    1.000000    0.871000   \n",
       "\n",
       "               RM         AGE         DIS         RAD         TAX     PTRATIO  \\\n",
       "count  506.000000  506.000000  506.000000  506.000000  506.000000  506.000000   \n",
       "mean     6.284634   68.574901    3.795043    9.549407  408.237154   18.455534   \n",
       "std      0.702617   28.148862    2.105710    8.707259  168.537116    2.164946   \n",
       "min      3.561000    2.900000    1.129600    1.000000  187.000000   12.600000   \n",
       "25%      5.885500   45.025000    2.100175    4.000000  279.000000   17.400000   \n",
       "50%      6.208500   77.500000    3.207450    5.000000  330.000000   19.050000   \n",
       "75%      6.623500   94.074999    5.188425   24.000000  666.000000   20.200001   \n",
       "max      8.780000  100.000000   12.126500   24.000000  711.000000   22.000000   \n",
       "\n",
       "                B       LSTAT  \n",
       "count  506.000000  506.000000  \n",
       "mean   356.674030   12.653063  \n",
       "std     91.294863    7.141062  \n",
       "min      0.320000    1.730000  \n",
       "25%    375.377487    6.950000  \n",
       "50%    391.440002   11.360000  \n",
       "75%    396.225006   16.954999  \n",
       "max    396.899994   37.970001  "
      ]
     },
     "execution_count": 4,
     "metadata": {},
     "output_type": "execute_result"
    }
   ],
   "source": [
    "df_raw.describe()"
   ]
  },
  {
   "cell_type": "code",
   "execution_count": 5,
   "metadata": {},
   "outputs": [
    {
     "data": {
      "text/plain": [
       "MEDV       0\n",
       "CRIM       0\n",
       "ZN         0\n",
       "INDUS      0\n",
       "CHAS       0\n",
       "NOX        0\n",
       "RM         0\n",
       "AGE        0\n",
       "DIS        0\n",
       "RAD        0\n",
       "TAX        0\n",
       "PTRATIO    0\n",
       "B          0\n",
       "LSTAT      0\n",
       "dtype: int64"
      ]
     },
     "execution_count": 5,
     "metadata": {},
     "output_type": "execute_result"
    }
   ],
   "source": [
    "# 결측치 판별 - 없음\n",
    "df_raw.isnull().sum()"
   ]
  },
  {
   "cell_type": "code",
   "execution_count": 6,
   "metadata": {},
   "outputs": [
    {
     "name": "stderr",
     "output_type": "stream",
     "text": [
      "/home/piai/anaconda3/lib/python3.7/site-packages/pandas/plotting/_matplotlib/tools.py:298: MatplotlibDeprecationWarning: \n",
      "The rowNum attribute was deprecated in Matplotlib 3.2 and will be removed two minor releases later. Use ax.get_subplotspec().rowspan.start instead.\n",
      "  layout[ax.rowNum, ax.colNum] = ax.get_visible()\n",
      "/home/piai/anaconda3/lib/python3.7/site-packages/pandas/plotting/_matplotlib/tools.py:298: MatplotlibDeprecationWarning: \n",
      "The colNum attribute was deprecated in Matplotlib 3.2 and will be removed two minor releases later. Use ax.get_subplotspec().colspan.start instead.\n",
      "  layout[ax.rowNum, ax.colNum] = ax.get_visible()\n",
      "/home/piai/anaconda3/lib/python3.7/site-packages/pandas/plotting/_matplotlib/tools.py:304: MatplotlibDeprecationWarning: \n",
      "The rowNum attribute was deprecated in Matplotlib 3.2 and will be removed two minor releases later. Use ax.get_subplotspec().rowspan.start instead.\n",
      "  if not layout[ax.rowNum + 1, ax.colNum]:\n",
      "/home/piai/anaconda3/lib/python3.7/site-packages/pandas/plotting/_matplotlib/tools.py:304: MatplotlibDeprecationWarning: \n",
      "The colNum attribute was deprecated in Matplotlib 3.2 and will be removed two minor releases later. Use ax.get_subplotspec().colspan.start instead.\n",
      "  if not layout[ax.rowNum + 1, ax.colNum]:\n"
     ]
    },
    {
     "data": {
      "text/plain": [
       "array([[<matplotlib.axes._subplots.AxesSubplot object at 0x7fbb83cf55d0>,\n",
       "        <matplotlib.axes._subplots.AxesSubplot object at 0x7fbb83456c90>,\n",
       "        <matplotlib.axes._subplots.AxesSubplot object at 0x7fbb83417350>,\n",
       "        <matplotlib.axes._subplots.AxesSubplot object at 0x7fbb833cd9d0>],\n",
       "       [<matplotlib.axes._subplots.AxesSubplot object at 0x7fbb83379b90>,\n",
       "        <matplotlib.axes._subplots.AxesSubplot object at 0x7fbb83347710>,\n",
       "        <matplotlib.axes._subplots.AxesSubplot object at 0x7fbb832fae10>,\n",
       "        <matplotlib.axes._subplots.AxesSubplot object at 0x7fbb833ea7d0>],\n",
       "       [<matplotlib.axes._subplots.AxesSubplot object at 0x7fbb833ea5d0>,\n",
       "        <matplotlib.axes._subplots.AxesSubplot object at 0x7fbb83271190>,\n",
       "        <matplotlib.axes._subplots.AxesSubplot object at 0x7fbb831dbd90>,\n",
       "        <matplotlib.axes._subplots.AxesSubplot object at 0x7fbb8319d450>],\n",
       "       [<matplotlib.axes._subplots.AxesSubplot object at 0x7fbb831d2ad0>,\n",
       "        <matplotlib.axes._subplots.AxesSubplot object at 0x7fbb83195190>,\n",
       "        <matplotlib.axes._subplots.AxesSubplot object at 0x7fbb83149810>,\n",
       "        <matplotlib.axes._subplots.AxesSubplot object at 0x7fbb83100e90>]],\n",
       "      dtype=object)"
      ]
     },
     "execution_count": 6,
     "metadata": {},
     "output_type": "execute_result"
    },
    {
     "data": {
      "image/png": "[encoded data removed]",
      "text/plain": [
       "<Figure size 432x288 with 1 Axes>"
      ]
     },
     "metadata": {
      "needs_background": "light"
     },
     "output_type": "display_data"
    },
    {
     "data": {
      "image/png": "[encoded data removed]",
      "text/plain": [
       "<Figure size 1440x576 with 16 Axes>"
      ]
     },
     "metadata": {
      "needs_background": "light"
     },
     "output_type": "display_data"
    }
   ],
   "source": [
    "# 변수 별 히스토그램  \n",
    "df_raw['MEDV'].hist()\n",
    "df_raw.hist(figsize=(20,8))"
   ]
  },
  {
   "cell_type": "markdown",
   "metadata": {},
   "source": [
    "\n",
    "MEDV\t주택가격(목표 변수)  \n",
    "CRIM\t범죄율  \n",
    "ZN      주거지 비율  \n",
    "INDUS\t비소매업 비율  \n",
    "CHAS\t강 조망 여부(1-조망,0-비조망)  \n",
    "NOX\t    산화질소 농도  \n",
    "RM\t    주거당 평균 객실 수  \n",
    "AGE\t    노후 건물 비율  \n",
    "DIS\t    중심지(노동센터) 접근 거리  \n",
    "RAD\t    고속도로 접근 편이성 지수  \n",
    "TAX\t    재산세율  \n",
    "PTRATIO\t학생당 교사 비율  \n",
    "B\t    흑인 인구 비율  \n",
    "LSTAT\t저소득층 비율  "
   ]
  },
  {
   "cell_type": "code",
   "execution_count": 7,
   "metadata": {},
   "outputs": [
    {
     "data": {
      "text/plain": [
       "<seaborn.axisgrid.PairGrid at 0x7fbb83d10c50>"
      ]
     },
     "execution_count": 7,
     "metadata": {},
     "output_type": "execute_result"
    },
    {
     "data": {
      "image/png": "[encoded data removed]",
      "text/plain": [
       "<Figure size 720x180 with 4 Axes>"
      ]
     },
     "metadata": {
      "needs_background": "light"
     },
     "output_type": "display_data"
    },
    {
     "data": {
      "image/png": "[encoded data removed]",
      "text/plain": [
       "<Figure size 720x180 with 4 Axes>"
      ]
     },
     "metadata": {
      "needs_background": "light"
     },
     "output_type": "display_data"
    },
    {
     "data": {
      "image/png": "[encoded data removed]",
      "text/plain": [
       "<Figure size 720x180 with 4 Axes>"
      ]
     },
     "metadata": {
      "needs_background": "light"
     },
     "output_type": "display_data"
    }
   ],
   "source": [
    "# 독립변수와 종속변수의 관계 파악\n",
    "# 산점도 행렬 확인\n",
    "\n",
    "sns.pairplot(df_raw,y_vars=\"MEDV\",x_vars=['CRIM', 'ZN', 'INDUS','NOX'], kind = 'reg')\n",
    "\n",
    "sns.pairplot(df_raw,y_vars=\"MEDV\",x_vars=['RM', 'AGE', 'DIS','RAD'], kind = 'reg')\n",
    "\n",
    "sns.pairplot(df_raw,y_vars=\"MEDV\",x_vars=['TAX', 'PTRATIO','B','LSTAT'], kind = 'reg')"
   ]
  },
  {
   "cell_type": "markdown",
   "metadata": {},
   "source": [
    "직관적으로 보면 목표 변수와 선형 관계가 확실히 보이는 변수와 독립의 관계를 보이는 변수가 있습니다. \n",
    "RM과 LSTAT은 한 눈에 봐도 선형 관계를 보이기 때문에 변수 채택을 고려해 보도록 하겠습니다.\n",
    "\n",
    "좀 더 자세한 탐색적 분석을 위해 Box-plot도 보면서 판단하도록 할게요."
   ]
  },
  {
   "cell_type": "markdown",
   "metadata": {},
   "source": [
    "# 데이터 전처리"
   ]
  },
  {
   "cell_type": "code",
   "execution_count": 8,
   "metadata": {},
   "outputs": [],
   "source": [
    "# 표준점수 기반 예제 코드\n",
    "# 출처 : https://wikidocs.net/16582\n",
    "\n",
    "def std_based_outlier(df):\n",
    "    for i in range(0, len(df.iloc[1])): \n",
    "        df = df[~(np.abs(df.iloc[:,i] - df.iloc[:,i].mean()) > (3*df.iloc[:,i].std()))].fillna(0)"
   ]
  },
  {
   "cell_type": "markdown",
   "metadata": {},
   "source": [
    "일단 눈에 확실히 보이는 이상치를 제거해 주도록 하겠습니다."
   ]
  },
  {
   "cell_type": "code",
   "execution_count": 9,
   "metadata": {},
   "outputs": [
    {
     "data": {
      "text/html": [
       "<div>\n",
       "<style scoped>\n",
       "    .dataframe tbody tr th:only-of-type {\n",
       "        vertical-align: middle;\n",
       "    }\n",
       "\n",
       "    .dataframe tbody tr th {\n",
       "        vertical-align: top;\n",
       "    }\n",
       "\n",
       "    .dataframe thead th {\n",
       "        text-align: right;\n",
       "    }\n",
       "</style>\n",
       "<table border=\"1\" class=\"dataframe\">\n",
       "  <thead>\n",
       "    <tr style=\"text-align: right;\">\n",
       "      <th></th>\n",
       "      <th>MEDV</th>\n",
       "      <th>CRIM</th>\n",
       "      <th>ZN</th>\n",
       "      <th>INDUS</th>\n",
       "      <th>CHAS</th>\n",
       "      <th>NOX</th>\n",
       "      <th>RM</th>\n",
       "      <th>AGE</th>\n",
       "      <th>DIS</th>\n",
       "      <th>RAD</th>\n",
       "      <th>TAX</th>\n",
       "      <th>PTRATIO</th>\n",
       "      <th>B</th>\n",
       "      <th>LSTAT</th>\n",
       "    </tr>\n",
       "  </thead>\n",
       "  <tbody>\n",
       "    <tr>\n",
       "      <th>0</th>\n",
       "      <td>24.000000</td>\n",
       "      <td>0.00632</td>\n",
       "      <td>18.0</td>\n",
       "      <td>2.31</td>\n",
       "      <td>0</td>\n",
       "      <td>0.538</td>\n",
       "      <td>6.575</td>\n",
       "      <td>65.199997</td>\n",
       "      <td>4.0900</td>\n",
       "      <td>1</td>\n",
       "      <td>296</td>\n",
       "      <td>15.300000</td>\n",
       "      <td>396.899994</td>\n",
       "      <td>4.98</td>\n",
       "    </tr>\n",
       "    <tr>\n",
       "      <th>1</th>\n",
       "      <td>21.600000</td>\n",
       "      <td>0.02731</td>\n",
       "      <td>0.0</td>\n",
       "      <td>7.07</td>\n",
       "      <td>0</td>\n",
       "      <td>0.469</td>\n",
       "      <td>6.421</td>\n",
       "      <td>78.900002</td>\n",
       "      <td>4.9671</td>\n",
       "      <td>2</td>\n",
       "      <td>242</td>\n",
       "      <td>17.799999</td>\n",
       "      <td>396.899994</td>\n",
       "      <td>9.14</td>\n",
       "    </tr>\n",
       "    <tr>\n",
       "      <th>2</th>\n",
       "      <td>34.700001</td>\n",
       "      <td>0.02729</td>\n",
       "      <td>0.0</td>\n",
       "      <td>7.07</td>\n",
       "      <td>0</td>\n",
       "      <td>0.469</td>\n",
       "      <td>7.185</td>\n",
       "      <td>61.099998</td>\n",
       "      <td>4.9671</td>\n",
       "      <td>2</td>\n",
       "      <td>242</td>\n",
       "      <td>17.799999</td>\n",
       "      <td>392.829987</td>\n",
       "      <td>4.03</td>\n",
       "    </tr>\n",
       "    <tr>\n",
       "      <th>3</th>\n",
       "      <td>33.400002</td>\n",
       "      <td>0.03237</td>\n",
       "      <td>0.0</td>\n",
       "      <td>2.18</td>\n",
       "      <td>0</td>\n",
       "      <td>0.458</td>\n",
       "      <td>6.998</td>\n",
       "      <td>45.799999</td>\n",
       "      <td>6.0622</td>\n",
       "      <td>3</td>\n",
       "      <td>222</td>\n",
       "      <td>18.700001</td>\n",
       "      <td>394.630005</td>\n",
       "      <td>2.94</td>\n",
       "    </tr>\n",
       "    <tr>\n",
       "      <th>4</th>\n",
       "      <td>36.200001</td>\n",
       "      <td>0.06905</td>\n",
       "      <td>0.0</td>\n",
       "      <td>2.18</td>\n",
       "      <td>0</td>\n",
       "      <td>0.458</td>\n",
       "      <td>7.147</td>\n",
       "      <td>54.200001</td>\n",
       "      <td>6.0622</td>\n",
       "      <td>3</td>\n",
       "      <td>222</td>\n",
       "      <td>18.700001</td>\n",
       "      <td>396.899994</td>\n",
       "      <td>5.33</td>\n",
       "    </tr>\n",
       "    <tr>\n",
       "      <th>...</th>\n",
       "      <td>...</td>\n",
       "      <td>...</td>\n",
       "      <td>...</td>\n",
       "      <td>...</td>\n",
       "      <td>...</td>\n",
       "      <td>...</td>\n",
       "      <td>...</td>\n",
       "      <td>...</td>\n",
       "      <td>...</td>\n",
       "      <td>...</td>\n",
       "      <td>...</td>\n",
       "      <td>...</td>\n",
       "      <td>...</td>\n",
       "      <td>...</td>\n",
       "    </tr>\n",
       "    <tr>\n",
       "      <th>501</th>\n",
       "      <td>22.400000</td>\n",
       "      <td>0.06263</td>\n",
       "      <td>0.0</td>\n",
       "      <td>11.93</td>\n",
       "      <td>0</td>\n",
       "      <td>0.573</td>\n",
       "      <td>6.593</td>\n",
       "      <td>69.099998</td>\n",
       "      <td>2.4786</td>\n",
       "      <td>1</td>\n",
       "      <td>273</td>\n",
       "      <td>21.000000</td>\n",
       "      <td>391.989990</td>\n",
       "      <td>9.67</td>\n",
       "    </tr>\n",
       "    <tr>\n",
       "      <th>502</th>\n",
       "      <td>20.600000</td>\n",
       "      <td>0.04527</td>\n",
       "      <td>0.0</td>\n",
       "      <td>11.93</td>\n",
       "      <td>0</td>\n",
       "      <td>0.573</td>\n",
       "      <td>6.120</td>\n",
       "      <td>76.699997</td>\n",
       "      <td>2.2875</td>\n",
       "      <td>1</td>\n",
       "      <td>273</td>\n",
       "      <td>21.000000</td>\n",
       "      <td>396.899994</td>\n",
       "      <td>9.08</td>\n",
       "    </tr>\n",
       "    <tr>\n",
       "      <th>503</th>\n",
       "      <td>23.900000</td>\n",
       "      <td>0.06076</td>\n",
       "      <td>0.0</td>\n",
       "      <td>11.93</td>\n",
       "      <td>0</td>\n",
       "      <td>0.573</td>\n",
       "      <td>6.976</td>\n",
       "      <td>91.000000</td>\n",
       "      <td>2.1675</td>\n",
       "      <td>1</td>\n",
       "      <td>273</td>\n",
       "      <td>21.000000</td>\n",
       "      <td>396.899994</td>\n",
       "      <td>5.64</td>\n",
       "    </tr>\n",
       "    <tr>\n",
       "      <th>504</th>\n",
       "      <td>22.000000</td>\n",
       "      <td>0.10959</td>\n",
       "      <td>0.0</td>\n",
       "      <td>11.93</td>\n",
       "      <td>0</td>\n",
       "      <td>0.573</td>\n",
       "      <td>6.794</td>\n",
       "      <td>89.300003</td>\n",
       "      <td>2.3889</td>\n",
       "      <td>1</td>\n",
       "      <td>273</td>\n",
       "      <td>21.000000</td>\n",
       "      <td>393.450012</td>\n",
       "      <td>6.48</td>\n",
       "    </tr>\n",
       "    <tr>\n",
       "      <th>505</th>\n",
       "      <td>11.900000</td>\n",
       "      <td>0.04741</td>\n",
       "      <td>0.0</td>\n",
       "      <td>11.93</td>\n",
       "      <td>0</td>\n",
       "      <td>0.573</td>\n",
       "      <td>6.030</td>\n",
       "      <td>80.800003</td>\n",
       "      <td>2.5050</td>\n",
       "      <td>1</td>\n",
       "      <td>273</td>\n",
       "      <td>21.000000</td>\n",
       "      <td>396.899994</td>\n",
       "      <td>7.88</td>\n",
       "    </tr>\n",
       "  </tbody>\n",
       "</table>\n",
       "<p>506 rows × 14 columns</p>\n",
       "</div>"
      ],
      "text/plain": [
       "          MEDV     CRIM    ZN  INDUS  CHAS    NOX     RM        AGE     DIS  \\\n",
       "0    24.000000  0.00632  18.0   2.31     0  0.538  6.575  65.199997  4.0900   \n",
       "1    21.600000  0.02731   0.0   7.07     0  0.469  6.421  78.900002  4.9671   \n",
       "2    34.700001  0.02729   0.0   7.07     0  0.469  7.185  61.099998  4.9671   \n",
       "3    33.400002  0.03237   0.0   2.18     0  0.458  6.998  45.799999  6.0622   \n",
       "4    36.200001  0.06905   0.0   2.18     0  0.458  7.147  54.200001  6.0622   \n",
       "..         ...      ...   ...    ...   ...    ...    ...        ...     ...   \n",
       "501  22.400000  0.06263   0.0  11.93     0  0.573  6.593  69.099998  2.4786   \n",
       "502  20.600000  0.04527   0.0  11.93     0  0.573  6.120  76.699997  2.2875   \n",
       "503  23.900000  0.06076   0.0  11.93     0  0.573  6.976  91.000000  2.1675   \n",
       "504  22.000000  0.10959   0.0  11.93     0  0.573  6.794  89.300003  2.3889   \n",
       "505  11.900000  0.04741   0.0  11.93     0  0.573  6.030  80.800003  2.5050   \n",
       "\n",
       "     RAD  TAX    PTRATIO           B  LSTAT  \n",
       "0      1  296  15.300000  396.899994   4.98  \n",
       "1      2  242  17.799999  396.899994   9.14  \n",
       "2      2  242  17.799999  392.829987   4.03  \n",
       "3      3  222  18.700001  394.630005   2.94  \n",
       "4      3  222  18.700001  396.899994   5.33  \n",
       "..   ...  ...        ...         ...    ...  \n",
       "501    1  273  21.000000  391.989990   9.67  \n",
       "502    1  273  21.000000  396.899994   9.08  \n",
       "503    1  273  21.000000  396.899994   5.64  \n",
       "504    1  273  21.000000  393.450012   6.48  \n",
       "505    1  273  21.000000  396.899994   7.88  \n",
       "\n",
       "[506 rows x 14 columns]"
      ]
     },
     "execution_count": 9,
     "metadata": {},
     "output_type": "execute_result"
    }
   ],
   "source": [
    "std_based_outlier(df_raw)\n",
    "df_raw"
   ]
  },
  {
   "cell_type": "code",
   "execution_count": 18,
   "metadata": {},
   "outputs": [
    {
     "data": {
      "text/plain": [
       "<matplotlib.axes._subplots.AxesSubplot at 0x7fbb78747f50>"
      ]
     },
     "execution_count": 18,
     "metadata": {},
     "output_type": "execute_result"
    },
    {
     "data": {
      "image/png": "[encoded data removed]",
      "text/plain": [
       "<Figure size 1440x1080 with 1 Axes>"
      ]
     },
     "metadata": {
      "needs_background": "light"
     },
     "output_type": "display_data"
    }
   ],
   "source": [
    "# 이상치 판별을 위해 Box plot 그려보기\n",
    "plt.figure(figsize = (20,15))\n",
    "df_raw.boxplot(column = 'CRIM')"
   ]
  },
  {
   "cell_type": "markdown",
   "metadata": {},
   "source": [
    "5 이후로 아주 많은 이상치가 관측되네요. 이 모든 값을 다 버리게 된다면 데이터의 손실이 커지므로, 범주형으로 만드는 방법을 취하겠습니다."
   ]
  },
  {
   "cell_type": "code",
   "execution_count": 11,
   "metadata": {},
   "outputs": [],
   "source": [
    "df_raw['CRIM(C)'] = 0"
   ]
  },
  {
   "cell_type": "code",
   "execution_count": 12,
   "metadata": {},
   "outputs": [],
   "source": [
    "df_raw.loc[(0<=df_raw['CRIM']) & (df_raw['CRIM']<=2.5),'CRIM(C)'] = 1\n",
    "df_raw.loc[(2.5<df_raw['CRIM']),'CRIM(C)'] = 2"
   ]
  },
  {
   "cell_type": "code",
   "execution_count": 13,
   "metadata": {},
   "outputs": [
    {
     "data": {
      "text/plain": [
       "1    368\n",
       "2    138\n",
       "dtype: int64"
      ]
     },
     "execution_count": 13,
     "metadata": {},
     "output_type": "execute_result"
    }
   ],
   "source": [
    "pd.value_counts(df_raw['CRIM(C)'].values)"
   ]
  },
  {
   "cell_type": "code",
   "execution_count": 19,
   "metadata": {},
   "outputs": [
    {
     "data": {
      "text/plain": [
       "([<matplotlib.axis.YTick at 0x7fbb786d38d0>,\n",
       "  <matplotlib.axis.YTick at 0x7fbb80080e90>,\n",
       "  <matplotlib.axis.YTick at 0x7fbb786d8d10>,\n",
       "  <matplotlib.axis.YTick at 0x7fbb78792910>,\n",
       "  <matplotlib.axis.YTick at 0x7fbb7868b6d0>,\n",
       "  <matplotlib.axis.YTick at 0x7fbb786a5c90>,\n",
       "  <matplotlib.axis.YTick at 0x7fbb786ae890>,\n",
       "  <matplotlib.axis.YTick at 0x7fbb786aedd0>,\n",
       "  <matplotlib.axis.YTick at 0x7fbb786b8350>,\n",
       "  <matplotlib.axis.YTick at 0x7fbb786b8890>,\n",
       "  <matplotlib.axis.YTick at 0x7fbb786b8d90>,\n",
       "  <matplotlib.axis.YTick at 0x7fbb78641390>],\n",
       " <a list of 12 Text major ticklabel objects>)"
      ]
     },
     "execution_count": 19,
     "metadata": {},
     "output_type": "execute_result"
    },
    {
     "data": {
      "text/plain": [
       "<Figure size 1440x1080 with 0 Axes>"
      ]
     },
     "metadata": {},
     "output_type": "display_data"
    },
    {
     "data": {
      "image/png": "[encoded data removed]",
      "text/plain": [
       "<Figure size 432x288 with 1 Axes>"
      ]
     },
     "metadata": {
      "needs_background": "light"
     },
     "output_type": "display_data"
    }
   ],
   "source": [
    "plt.figure(figsize = (20,15))\n",
    "df_raw.boxplot(column = 'MEDV', by = ['CRIM(C)'])\n",
    "plt.yticks(np.arange(0,60, step=5))"
   ]
  },
  {
   "cell_type": "markdown",
   "metadata": {},
   "source": [
    "범죄율 구간 (1~2)에 따른 가격 평균의 차이가 보이는 군요 따라서 범죄율 변수를 후보에서 채택하는 것을 고려해 봅니다."
   ]
  },
  {
   "cell_type": "code",
   "execution_count": 20,
   "metadata": {},
   "outputs": [
    {
     "data": {
      "text/plain": [
       "<matplotlib.axes._subplots.AxesSubplot at 0x7fbb78664b50>"
      ]
     },
     "execution_count": 20,
     "metadata": {},
     "output_type": "execute_result"
    },
    {
     "data": {
      "image/png": "[encoded data removed]",
      "text/plain": [
       "<Figure size 1440x1080 with 1 Axes>"
      ]
     },
     "metadata": {
      "needs_background": "light"
     },
     "output_type": "display_data"
    }
   ],
   "source": [
    "plt.figure(figsize = (20,15))\n",
    "df_raw.boxplot(column = 'ZN')"
   ]
  },
  {
   "cell_type": "markdown",
   "metadata": {},
   "source": [
    "마찬가지로, 30 이후로 아주 많은 이상치가 관측되네요. 이 모든 값을 다 버리게 된다면 데이터의 손실이 커지므로, 범주형으로 만드는 방법을 취하겠습니다.\n",
    "변수 구간화를 통한 이상치 완화에 대한 근거는 https://m.blog.naver.com/gksshdk8003/221517070898 을 참고하였습니다."
   ]
  },
  {
   "cell_type": "code",
   "execution_count": 21,
   "metadata": {},
   "outputs": [],
   "source": [
    "df_raw['ZN(C)'] = 0"
   ]
  },
  {
   "cell_type": "code",
   "execution_count": 22,
   "metadata": {},
   "outputs": [],
   "source": [
    "df_raw.loc[(0<=df_raw['ZN']) & (df_raw['ZN']<=20),'ZN(C)'] = 1\n",
    "df_raw.loc[(20<=df_raw['ZN']) & (df_raw['ZN']<=40),'ZN(C)'] = 2\n",
    "df_raw.loc[(40<=df_raw['ZN']) & (df_raw['ZN']<=60),'ZN(C)'] = 3\n",
    "df_raw.loc[(60<=df_raw['ZN']) & (df_raw['ZN']<=80),'ZN(C)'] = 4\n",
    "df_raw.loc[(80<=df_raw['ZN']) & (df_raw['ZN']<=100),'ZN(C)'] = 5"
   ]
  },
  {
   "cell_type": "code",
   "execution_count": 23,
   "metadata": {},
   "outputs": [
    {
     "data": {
      "text/plain": [
       "1    384\n",
       "2     64\n",
       "5     29\n",
       "3     19\n",
       "4     10\n",
       "dtype: int64"
      ]
     },
     "execution_count": 23,
     "metadata": {},
     "output_type": "execute_result"
    }
   ],
   "source": [
    "df_raw[['ZN(C)']]\n",
    "pd.value_counts(df_raw['ZN(C)'].values)"
   ]
  },
  {
   "cell_type": "code",
   "execution_count": 24,
   "metadata": {},
   "outputs": [
    {
     "data": {
      "text/plain": [
       "<matplotlib.axes._subplots.AxesSubplot at 0x7fbb785c4c10>"
      ]
     },
     "execution_count": 24,
     "metadata": {},
     "output_type": "execute_result"
    },
    {
     "data": {
      "text/plain": [
       "<Figure size 1440x1080 with 0 Axes>"
      ]
     },
     "metadata": {},
     "output_type": "display_data"
    },
    {
     "data": {
      "image/png": "[encoded data removed]",
      "text/plain": [
       "<Figure size 432x288 with 1 Axes>"
      ]
     },
     "metadata": {
      "needs_background": "light"
     },
     "output_type": "display_data"
    }
   ],
   "source": [
    "plt.figure(figsize = (20,15))\n",
    "df_raw.boxplot(column = 'MEDV', by = ['ZN(C)'])"
   ]
  },
  {
   "cell_type": "markdown",
   "metadata": {},
   "source": [
    "ZN(C) 같은 경우는 탐색적 분석을 통해 변수 선택 여부를 결정하기 아주 어려웠습니다.  주거지 비율 구간 (1~5)에 따른 가격 평균이 전체적으로는 비슷하지만 A 구간의 변수들은 영향을 미친다고 볼 수 있습니다.  그리고 비닝한 ZN 변수 포인트 수를 고려해 볼 때 A는 384개로 대부분의 비율을 차지합니다.  앞서 산점도 그래프 분석과 종합하여 ZN을 후보에서 채택하는 것을 고려해 봅니다."
   ]
  },
  {
   "cell_type": "code",
   "execution_count": 27,
   "metadata": {},
   "outputs": [
    {
     "data": {
      "text/plain": [
       "<matplotlib.axes._subplots.AxesSubplot at 0x7fbb7847f650>"
      ]
     },
     "execution_count": 27,
     "metadata": {},
     "output_type": "execute_result"
    },
    {
     "data": {
      "image/png": "[encoded data removed]",
      "text/plain": [
       "<Figure size 1440x1080 with 1 Axes>"
      ]
     },
     "metadata": {
      "needs_background": "light"
     },
     "output_type": "display_data"
    }
   ],
   "source": [
    "plt.figure(figsize = (20,15))\n",
    "df_raw.boxplot(column = 'INDUS')"
   ]
  },
  {
   "cell_type": "code",
   "execution_count": 28,
   "metadata": {},
   "outputs": [],
   "source": [
    "df_raw['INDUS(C)'] = 0"
   ]
  },
  {
   "cell_type": "code",
   "execution_count": 29,
   "metadata": {},
   "outputs": [],
   "source": [
    "df_raw.loc[(0<=df_raw['INDUS']) & (df_raw['INDUS']<=15),'INDUS(C)'] = 1\n",
    "df_raw.loc[(15<=df_raw['INDUS']),'INDUS(C)'] = 2"
   ]
  },
  {
   "cell_type": "code",
   "execution_count": 30,
   "metadata": {},
   "outputs": [
    {
     "data": {
      "text/plain": [
       "1    314\n",
       "2    192\n",
       "Name: INDUS(C), dtype: int64"
      ]
     },
     "execution_count": 30,
     "metadata": {},
     "output_type": "execute_result"
    }
   ],
   "source": [
    "pd.value_counts(df_raw['INDUS(C)'])"
   ]
  },
  {
   "cell_type": "code",
   "execution_count": 31,
   "metadata": {},
   "outputs": [
    {
     "data": {
      "text/plain": [
       "<matplotlib.axes._subplots.AxesSubplot at 0x7fbb7845a050>"
      ]
     },
     "execution_count": 31,
     "metadata": {},
     "output_type": "execute_result"
    },
    {
     "data": {
      "image/png": "[encoded data removed]",
      "text/plain": [
       "<Figure size 432x288 with 1 Axes>"
      ]
     },
     "metadata": {
      "needs_background": "light"
     },
     "output_type": "display_data"
    }
   ],
   "source": [
    "df_raw.boxplot(column = 'MEDV', by = ['INDUS(C)'])"
   ]
  },
  {
   "cell_type": "markdown",
   "metadata": {},
   "source": [
    "육안으로 봐도 금액 평균에 있어서 차이가 있음을 확인할 수 있어요!  산점도 그래프 분석에서도 비소매업 비율과 목표 변수와의 선형적 관계를 파악할 수 있었기 때문에 위 변수를 채택하는 것을 고려해 봅니다."
   ]
  },
  {
   "cell_type": "code",
   "execution_count": 32,
   "metadata": {},
   "outputs": [
    {
     "data": {
      "text/plain": [
       "0    471\n",
       "1     35\n",
       "Name: CHAS, dtype: int64"
      ]
     },
     "execution_count": 32,
     "metadata": {},
     "output_type": "execute_result"
    }
   ],
   "source": [
    "pd.value_counts(df_raw['CHAS'])"
   ]
  },
  {
   "cell_type": "code",
   "execution_count": 33,
   "metadata": {},
   "outputs": [
    {
     "data": {
      "text/plain": [
       "<matplotlib.axes._subplots.AxesSubplot at 0x7fbb7841fb10>"
      ]
     },
     "execution_count": 33,
     "metadata": {},
     "output_type": "execute_result"
    },
    {
     "data": {
      "image/png": "[encoded data removed]",
      "text/plain": [
       "<Figure size 432x288 with 1 Axes>"
      ]
     },
     "metadata": {
      "needs_background": "light"
     },
     "output_type": "display_data"
    }
   ],
   "source": [
    "df_raw.boxplot(column = 'MEDV', by = ['CHAS'])"
   ]
  },
  {
   "cell_type": "markdown",
   "metadata": {},
   "source": [
    "조망권이 있는 경우와 없는 경우에 평균이 비슷하군요\n",
    "따라서 조망권 변수를 후보에서 채택하지 않는 것을 고려해 봅니다.\n",
    "일반적으로 강이 보이면 집값이 비싸지는 한국 정서와 약간 다른 미국 스타일이 느껴졌습니다."
   ]
  },
  {
   "cell_type": "code",
   "execution_count": 34,
   "metadata": {},
   "outputs": [],
   "source": [
    "df_raw['INDUS(C)'] = 0"
   ]
  },
  {
   "cell_type": "code",
   "execution_count": 90,
   "metadata": {},
   "outputs": [
    {
     "data": {
      "text/plain": [
       "<matplotlib.axes._subplots.AxesSubplot at 0x7fbb8003c3d0>"
      ]
     },
     "execution_count": 90,
     "metadata": {},
     "output_type": "execute_result"
    },
    {
     "data": {
      "image/png": "[encoded data removed]",
      "text/plain": [
       "<Figure size 1440x1080 with 1 Axes>"
      ]
     },
     "metadata": {
      "needs_background": "light"
     },
     "output_type": "display_data"
    }
   ],
   "source": [
    "plt.figure(figsize = (20,15))\n",
    "df_raw.boxplot(column = 'NOX')"
   ]
  },
  {
   "cell_type": "code",
   "execution_count": 36,
   "metadata": {},
   "outputs": [],
   "source": [
    "df_raw.loc[(0<=df_raw['NOX']) & (df_raw['NOX']<0.5),'NOX(C)'] = 1\n",
    "df_raw.loc[0.5<=df_raw['NOX'],'NOX(C)'] = 2"
   ]
  },
  {
   "cell_type": "code",
   "execution_count": 37,
   "metadata": {},
   "outputs": [
    {
     "data": {
      "text/plain": [
       "2.0    314\n",
       "1.0    192\n",
       "Name: NOX(C), dtype: int64"
      ]
     },
     "execution_count": 37,
     "metadata": {},
     "output_type": "execute_result"
    }
   ],
   "source": [
    "pd.value_counts(df_raw['NOX(C)'])"
   ]
  },
  {
   "cell_type": "code",
   "execution_count": 38,
   "metadata": {},
   "outputs": [
    {
     "data": {
      "text/plain": [
       "<matplotlib.axes._subplots.AxesSubplot at 0x7fbb782cabd0>"
      ]
     },
     "execution_count": 38,
     "metadata": {},
     "output_type": "execute_result"
    },
    {
     "data": {
      "image/png": "[encoded data removed]",
      "text/plain": [
       "<Figure size 432x288 with 1 Axes>"
      ]
     },
     "metadata": {
      "needs_background": "light"
     },
     "output_type": "display_data"
    }
   ],
   "source": [
    "df_raw.boxplot(column = 'MEDV', by = ['NOX(C)'])"
   ]
  },
  {
   "cell_type": "markdown",
   "metadata": {},
   "source": [
    "산화 질소 농도에 따른 평균의 차이가 관측되는군요.  \n",
    "공기가 안 좋으면 당연히 집값이 낮아질 것이라는 상식과 일치합니다.  \n",
    "산점도 분석에서도 비교적 선형관계를 확인할 수 있었습니다.  \n",
    "따라서 이 변수를 후보에 채택하는 것을 고려해 봅니다."
   ]
  },
  {
   "cell_type": "code",
   "execution_count": 39,
   "metadata": {},
   "outputs": [
    {
     "data": {
      "text/plain": [
       "<matplotlib.axes._subplots.AxesSubplot at 0x7fbb78259390>"
      ]
     },
     "execution_count": 39,
     "metadata": {},
     "output_type": "execute_result"
    },
    {
     "data": {
      "image/png": "[encoded data removed]",
      "text/plain": [
       "<Figure size 1440x1080 with 1 Axes>"
      ]
     },
     "metadata": {
      "needs_background": "light"
     },
     "output_type": "display_data"
    }
   ],
   "source": [
    "plt.figure(figsize = (20,15))\n",
    "df_raw.boxplot(figsize = (20, 10))"
   ]
  },
  {
   "cell_type": "markdown",
   "metadata": {},
   "source": [
    "흑인 인구 비율(B) 같은 경우도 평균과 동떨어져 너무 고르게 분포되어 있기 때문에 구간화를 통한 이상치 완화를 시도해봅니다."
   ]
  },
  {
   "cell_type": "code",
   "execution_count": 40,
   "metadata": {},
   "outputs": [],
   "source": [
    "df_raw['B(C)'] = 0"
   ]
  },
  {
   "cell_type": "code",
   "execution_count": 41,
   "metadata": {},
   "outputs": [],
   "source": [
    "df_raw.loc[(300<=df_raw['B']) & (df_raw['B']<=320),'B(C)'] = 1\n",
    "df_raw.loc[(320<=df_raw['B']) & (df_raw['B']<=340),'B(C)'] = 2\n",
    "df_raw.loc[(340<=df_raw['B']) & (df_raw['B']<=360),'B(C)'] = 3\n",
    "df_raw.loc[(360<=df_raw['B']) & (df_raw['B']<=380),'B(C)'] = 4\n",
    "df_raw.loc[(380<=df_raw['B']) & (df_raw['B']<=400),'B(C)'] = 5"
   ]
  },
  {
   "cell_type": "code",
   "execution_count": 42,
   "metadata": {},
   "outputs": [
    {
     "data": {
      "text/plain": [
       "5    350\n",
       "4     60\n",
       "0     54\n",
       "3     23\n",
       "1     10\n",
       "2      9\n",
       "dtype: int64"
      ]
     },
     "execution_count": 42,
     "metadata": {},
     "output_type": "execute_result"
    }
   ],
   "source": [
    "df_raw[['B(C)']]\n",
    "pd.value_counts(df_raw['B(C)'].values)"
   ]
  },
  {
   "cell_type": "code",
   "execution_count": 43,
   "metadata": {},
   "outputs": [
    {
     "data": {
      "text/plain": [
       "<matplotlib.axes._subplots.AxesSubplot at 0x7fbb825e25d0>"
      ]
     },
     "execution_count": 43,
     "metadata": {},
     "output_type": "execute_result"
    },
    {
     "data": {
      "image/png": "[encoded data removed]",
      "text/plain": [
       "<Figure size 432x288 with 1 Axes>"
      ]
     },
     "metadata": {
      "needs_background": "light"
     },
     "output_type": "display_data"
    }
   ],
   "source": [
    "df_raw.boxplot(column = 'MEDV', by = ['B(C)'])"
   ]
  },
  {
   "cell_type": "markdown",
   "metadata": {},
   "source": [
    "흑인 인구 비율 (1 ~ 5)에 따른 가격 평균이 비슷하군요!  \n",
    "1 구간 (300~320)은 제법 영향을 끼쳐 보이지만, 이 구간에 속하는 갯수가 9개로 아주 적습니다.  \n",
    "따라서 이 변수를 후보에서 채택하지 않는 것을 고려해 봅니다."
   ]
  },
  {
   "cell_type": "code",
   "execution_count": 44,
   "metadata": {},
   "outputs": [],
   "source": [
    "df_raw['RM(C)'] = 0"
   ]
  },
  {
   "cell_type": "code",
   "execution_count": 45,
   "metadata": {},
   "outputs": [],
   "source": [
    "# 평균 객실수(RM)를 중심으로 구간 나누기\n",
    "df_raw.loc[6<=df_raw['RM'],'RM(C)'] = 1\n",
    "df_raw.loc[df_raw['RM']<6,'RM(C)'] = 2"
   ]
  },
  {
   "cell_type": "code",
   "execution_count": 46,
   "metadata": {},
   "outputs": [
    {
     "data": {
      "text/html": [
       "<div>\n",
       "<style scoped>\n",
       "    .dataframe tbody tr th:only-of-type {\n",
       "        vertical-align: middle;\n",
       "    }\n",
       "\n",
       "    .dataframe tbody tr th {\n",
       "        vertical-align: top;\n",
       "    }\n",
       "\n",
       "    .dataframe thead th {\n",
       "        text-align: right;\n",
       "    }\n",
       "</style>\n",
       "<table border=\"1\" class=\"dataframe\">\n",
       "  <thead>\n",
       "    <tr style=\"text-align: right;\">\n",
       "      <th></th>\n",
       "      <th>MEDV</th>\n",
       "      <th>CRIM</th>\n",
       "      <th>ZN</th>\n",
       "      <th>INDUS</th>\n",
       "      <th>CHAS</th>\n",
       "      <th>NOX</th>\n",
       "      <th>RM</th>\n",
       "      <th>AGE</th>\n",
       "      <th>DIS</th>\n",
       "      <th>RAD</th>\n",
       "      <th>TAX</th>\n",
       "      <th>PTRATIO</th>\n",
       "      <th>B</th>\n",
       "      <th>LSTAT</th>\n",
       "      <th>CRIM(C)</th>\n",
       "      <th>ZN(C)</th>\n",
       "      <th>INDUS(C)</th>\n",
       "      <th>NOX(C)</th>\n",
       "      <th>B(C)</th>\n",
       "      <th>RM(C)</th>\n",
       "    </tr>\n",
       "  </thead>\n",
       "  <tbody>\n",
       "    <tr>\n",
       "      <th>0</th>\n",
       "      <td>24.000000</td>\n",
       "      <td>0.00632</td>\n",
       "      <td>18.0</td>\n",
       "      <td>2.31</td>\n",
       "      <td>0</td>\n",
       "      <td>0.538</td>\n",
       "      <td>6.575</td>\n",
       "      <td>65.199997</td>\n",
       "      <td>4.0900</td>\n",
       "      <td>1</td>\n",
       "      <td>296</td>\n",
       "      <td>15.300000</td>\n",
       "      <td>396.899994</td>\n",
       "      <td>4.98</td>\n",
       "      <td>1</td>\n",
       "      <td>1</td>\n",
       "      <td>0</td>\n",
       "      <td>2.0</td>\n",
       "      <td>5</td>\n",
       "      <td>1</td>\n",
       "    </tr>\n",
       "    <tr>\n",
       "      <th>1</th>\n",
       "      <td>21.600000</td>\n",
       "      <td>0.02731</td>\n",
       "      <td>0.0</td>\n",
       "      <td>7.07</td>\n",
       "      <td>0</td>\n",
       "      <td>0.469</td>\n",
       "      <td>6.421</td>\n",
       "      <td>78.900002</td>\n",
       "      <td>4.9671</td>\n",
       "      <td>2</td>\n",
       "      <td>242</td>\n",
       "      <td>17.799999</td>\n",
       "      <td>396.899994</td>\n",
       "      <td>9.14</td>\n",
       "      <td>1</td>\n",
       "      <td>1</td>\n",
       "      <td>0</td>\n",
       "      <td>1.0</td>\n",
       "      <td>5</td>\n",
       "      <td>1</td>\n",
       "    </tr>\n",
       "    <tr>\n",
       "      <th>2</th>\n",
       "      <td>34.700001</td>\n",
       "      <td>0.02729</td>\n",
       "      <td>0.0</td>\n",
       "      <td>7.07</td>\n",
       "      <td>0</td>\n",
       "      <td>0.469</td>\n",
       "      <td>7.185</td>\n",
       "      <td>61.099998</td>\n",
       "      <td>4.9671</td>\n",
       "      <td>2</td>\n",
       "      <td>242</td>\n",
       "      <td>17.799999</td>\n",
       "      <td>392.829987</td>\n",
       "      <td>4.03</td>\n",
       "      <td>1</td>\n",
       "      <td>1</td>\n",
       "      <td>0</td>\n",
       "      <td>1.0</td>\n",
       "      <td>5</td>\n",
       "      <td>1</td>\n",
       "    </tr>\n",
       "    <tr>\n",
       "      <th>3</th>\n",
       "      <td>33.400002</td>\n",
       "      <td>0.03237</td>\n",
       "      <td>0.0</td>\n",
       "      <td>2.18</td>\n",
       "      <td>0</td>\n",
       "      <td>0.458</td>\n",
       "      <td>6.998</td>\n",
       "      <td>45.799999</td>\n",
       "      <td>6.0622</td>\n",
       "      <td>3</td>\n",
       "      <td>222</td>\n",
       "      <td>18.700001</td>\n",
       "      <td>394.630005</td>\n",
       "      <td>2.94</td>\n",
       "      <td>1</td>\n",
       "      <td>1</td>\n",
       "      <td>0</td>\n",
       "      <td>1.0</td>\n",
       "      <td>5</td>\n",
       "      <td>1</td>\n",
       "    </tr>\n",
       "    <tr>\n",
       "      <th>4</th>\n",
       "      <td>36.200001</td>\n",
       "      <td>0.06905</td>\n",
       "      <td>0.0</td>\n",
       "      <td>2.18</td>\n",
       "      <td>0</td>\n",
       "      <td>0.458</td>\n",
       "      <td>7.147</td>\n",
       "      <td>54.200001</td>\n",
       "      <td>6.0622</td>\n",
       "      <td>3</td>\n",
       "      <td>222</td>\n",
       "      <td>18.700001</td>\n",
       "      <td>396.899994</td>\n",
       "      <td>5.33</td>\n",
       "      <td>1</td>\n",
       "      <td>1</td>\n",
       "      <td>0</td>\n",
       "      <td>1.0</td>\n",
       "      <td>5</td>\n",
       "      <td>1</td>\n",
       "    </tr>\n",
       "    <tr>\n",
       "      <th>...</th>\n",
       "      <td>...</td>\n",
       "      <td>...</td>\n",
       "      <td>...</td>\n",
       "      <td>...</td>\n",
       "      <td>...</td>\n",
       "      <td>...</td>\n",
       "      <td>...</td>\n",
       "      <td>...</td>\n",
       "      <td>...</td>\n",
       "      <td>...</td>\n",
       "      <td>...</td>\n",
       "      <td>...</td>\n",
       "      <td>...</td>\n",
       "      <td>...</td>\n",
       "      <td>...</td>\n",
       "      <td>...</td>\n",
       "      <td>...</td>\n",
       "      <td>...</td>\n",
       "      <td>...</td>\n",
       "      <td>...</td>\n",
       "    </tr>\n",
       "    <tr>\n",
       "      <th>501</th>\n",
       "      <td>22.400000</td>\n",
       "      <td>0.06263</td>\n",
       "      <td>0.0</td>\n",
       "      <td>11.93</td>\n",
       "      <td>0</td>\n",
       "      <td>0.573</td>\n",
       "      <td>6.593</td>\n",
       "      <td>69.099998</td>\n",
       "      <td>2.4786</td>\n",
       "      <td>1</td>\n",
       "      <td>273</td>\n",
       "      <td>21.000000</td>\n",
       "      <td>391.989990</td>\n",
       "      <td>9.67</td>\n",
       "      <td>1</td>\n",
       "      <td>1</td>\n",
       "      <td>0</td>\n",
       "      <td>2.0</td>\n",
       "      <td>5</td>\n",
       "      <td>1</td>\n",
       "    </tr>\n",
       "    <tr>\n",
       "      <th>502</th>\n",
       "      <td>20.600000</td>\n",
       "      <td>0.04527</td>\n",
       "      <td>0.0</td>\n",
       "      <td>11.93</td>\n",
       "      <td>0</td>\n",
       "      <td>0.573</td>\n",
       "      <td>6.120</td>\n",
       "      <td>76.699997</td>\n",
       "      <td>2.2875</td>\n",
       "      <td>1</td>\n",
       "      <td>273</td>\n",
       "      <td>21.000000</td>\n",
       "      <td>396.899994</td>\n",
       "      <td>9.08</td>\n",
       "      <td>1</td>\n",
       "      <td>1</td>\n",
       "      <td>0</td>\n",
       "      <td>2.0</td>\n",
       "      <td>5</td>\n",
       "      <td>1</td>\n",
       "    </tr>\n",
       "    <tr>\n",
       "      <th>503</th>\n",
       "      <td>23.900000</td>\n",
       "      <td>0.06076</td>\n",
       "      <td>0.0</td>\n",
       "      <td>11.93</td>\n",
       "      <td>0</td>\n",
       "      <td>0.573</td>\n",
       "      <td>6.976</td>\n",
       "      <td>91.000000</td>\n",
       "      <td>2.1675</td>\n",
       "      <td>1</td>\n",
       "      <td>273</td>\n",
       "      <td>21.000000</td>\n",
       "      <td>396.899994</td>\n",
       "      <td>5.64</td>\n",
       "      <td>1</td>\n",
       "      <td>1</td>\n",
       "      <td>0</td>\n",
       "      <td>2.0</td>\n",
       "      <td>5</td>\n",
       "      <td>1</td>\n",
       "    </tr>\n",
       "    <tr>\n",
       "      <th>504</th>\n",
       "      <td>22.000000</td>\n",
       "      <td>0.10959</td>\n",
       "      <td>0.0</td>\n",
       "      <td>11.93</td>\n",
       "      <td>0</td>\n",
       "      <td>0.573</td>\n",
       "      <td>6.794</td>\n",
       "      <td>89.300003</td>\n",
       "      <td>2.3889</td>\n",
       "      <td>1</td>\n",
       "      <td>273</td>\n",
       "      <td>21.000000</td>\n",
       "      <td>393.450012</td>\n",
       "      <td>6.48</td>\n",
       "      <td>1</td>\n",
       "      <td>1</td>\n",
       "      <td>0</td>\n",
       "      <td>2.0</td>\n",
       "      <td>5</td>\n",
       "      <td>1</td>\n",
       "    </tr>\n",
       "    <tr>\n",
       "      <th>505</th>\n",
       "      <td>11.900000</td>\n",
       "      <td>0.04741</td>\n",
       "      <td>0.0</td>\n",
       "      <td>11.93</td>\n",
       "      <td>0</td>\n",
       "      <td>0.573</td>\n",
       "      <td>6.030</td>\n",
       "      <td>80.800003</td>\n",
       "      <td>2.5050</td>\n",
       "      <td>1</td>\n",
       "      <td>273</td>\n",
       "      <td>21.000000</td>\n",
       "      <td>396.899994</td>\n",
       "      <td>7.88</td>\n",
       "      <td>1</td>\n",
       "      <td>1</td>\n",
       "      <td>0</td>\n",
       "      <td>2.0</td>\n",
       "      <td>5</td>\n",
       "      <td>1</td>\n",
       "    </tr>\n",
       "  </tbody>\n",
       "</table>\n",
       "<p>506 rows × 20 columns</p>\n",
       "</div>"
      ],
      "text/plain": [
       "          MEDV     CRIM    ZN  INDUS  CHAS    NOX     RM        AGE     DIS  \\\n",
       "0    24.000000  0.00632  18.0   2.31     0  0.538  6.575  65.199997  4.0900   \n",
       "1    21.600000  0.02731   0.0   7.07     0  0.469  6.421  78.900002  4.9671   \n",
       "2    34.700001  0.02729   0.0   7.07     0  0.469  7.185  61.099998  4.9671   \n",
       "3    33.400002  0.03237   0.0   2.18     0  0.458  6.998  45.799999  6.0622   \n",
       "4    36.200001  0.06905   0.0   2.18     0  0.458  7.147  54.200001  6.0622   \n",
       "..         ...      ...   ...    ...   ...    ...    ...        ...     ...   \n",
       "501  22.400000  0.06263   0.0  11.93     0  0.573  6.593  69.099998  2.4786   \n",
       "502  20.600000  0.04527   0.0  11.93     0  0.573  6.120  76.699997  2.2875   \n",
       "503  23.900000  0.06076   0.0  11.93     0  0.573  6.976  91.000000  2.1675   \n",
       "504  22.000000  0.10959   0.0  11.93     0  0.573  6.794  89.300003  2.3889   \n",
       "505  11.900000  0.04741   0.0  11.93     0  0.573  6.030  80.800003  2.5050   \n",
       "\n",
       "     RAD  TAX    PTRATIO           B  LSTAT  CRIM(C)  ZN(C)  INDUS(C)  NOX(C)  \\\n",
       "0      1  296  15.300000  396.899994   4.98        1      1         0     2.0   \n",
       "1      2  242  17.799999  396.899994   9.14        1      1         0     1.0   \n",
       "2      2  242  17.799999  392.829987   4.03        1      1         0     1.0   \n",
       "3      3  222  18.700001  394.630005   2.94        1      1         0     1.0   \n",
       "4      3  222  18.700001  396.899994   5.33        1      1         0     1.0   \n",
       "..   ...  ...        ...         ...    ...      ...    ...       ...     ...   \n",
       "501    1  273  21.000000  391.989990   9.67        1      1         0     2.0   \n",
       "502    1  273  21.000000  396.899994   9.08        1      1         0     2.0   \n",
       "503    1  273  21.000000  396.899994   5.64        1      1         0     2.0   \n",
       "504    1  273  21.000000  393.450012   6.48        1      1         0     2.0   \n",
       "505    1  273  21.000000  396.899994   7.88        1      1         0     2.0   \n",
       "\n",
       "     B(C)  RM(C)  \n",
       "0       5      1  \n",
       "1       5      1  \n",
       "2       5      1  \n",
       "3       5      1  \n",
       "4       5      1  \n",
       "..    ...    ...  \n",
       "501     5      1  \n",
       "502     5      1  \n",
       "503     5      1  \n",
       "504     5      1  \n",
       "505     5      1  \n",
       "\n",
       "[506 rows x 20 columns]"
      ]
     },
     "execution_count": 46,
     "metadata": {},
     "output_type": "execute_result"
    }
   ],
   "source": [
    "df_raw"
   ]
  },
  {
   "cell_type": "code",
   "execution_count": 47,
   "metadata": {},
   "outputs": [
    {
     "data": {
      "text/plain": [
       "1    333\n",
       "2    173\n",
       "dtype: int64"
      ]
     },
     "execution_count": 47,
     "metadata": {},
     "output_type": "execute_result"
    }
   ],
   "source": [
    "df_raw[['RM(C)']]\n",
    "pd.value_counts(df_raw['RM(C)'].values)"
   ]
  },
  {
   "cell_type": "code",
   "execution_count": 48,
   "metadata": {},
   "outputs": [
    {
     "data": {
      "text/plain": [
       "<matplotlib.axes._subplots.AxesSubplot at 0x7fbb80631790>"
      ]
     },
     "execution_count": 48,
     "metadata": {},
     "output_type": "execute_result"
    },
    {
     "data": {
      "text/plain": [
       "<Figure size 1440x1080 with 0 Axes>"
      ]
     },
     "metadata": {},
     "output_type": "display_data"
    },
    {
     "data": {
      "image/png": "[encoded data removed]",
      "text/plain": [
       "<Figure size 432x288 with 1 Axes>"
      ]
     },
     "metadata": {
      "needs_background": "light"
     },
     "output_type": "display_data"
    }
   ],
   "source": [
    "plt.figure(figsize = (20,15))\n",
    "df_raw.boxplot(column = 'MEDV', by = ['RM(C)'])"
   ]
  },
  {
   "cell_type": "markdown",
   "metadata": {},
   "source": [
    "주거당 평균 객실수 구간에 따른 가격 변동이 보이기 때문에 이 변수를 후보에서 채택하는 것을 고려해 봅니다."
   ]
  },
  {
   "cell_type": "code",
   "execution_count": 49,
   "metadata": {},
   "outputs": [],
   "source": [
    "df_raw['AGE(C)'] = 0"
   ]
  },
  {
   "cell_type": "code",
   "execution_count": 50,
   "metadata": {},
   "outputs": [],
   "source": [
    "# 평균 노후 건물 비율(AGE)를 중심으로 구간 나누기\n",
    "df_raw.loc[68<=df_raw['AGE'],'AGE(C)'] = 1\n",
    "df_raw.loc[df_raw['AGE']<68,'AGE(C)'] = 2"
   ]
  },
  {
   "cell_type": "code",
   "execution_count": 51,
   "metadata": {},
   "outputs": [
    {
     "data": {
      "text/html": [
       "<div>\n",
       "<style scoped>\n",
       "    .dataframe tbody tr th:only-of-type {\n",
       "        vertical-align: middle;\n",
       "    }\n",
       "\n",
       "    .dataframe tbody tr th {\n",
       "        vertical-align: top;\n",
       "    }\n",
       "\n",
       "    .dataframe thead th {\n",
       "        text-align: right;\n",
       "    }\n",
       "</style>\n",
       "<table border=\"1\" class=\"dataframe\">\n",
       "  <thead>\n",
       "    <tr style=\"text-align: right;\">\n",
       "      <th></th>\n",
       "      <th>MEDV</th>\n",
       "      <th>CRIM</th>\n",
       "      <th>ZN</th>\n",
       "      <th>INDUS</th>\n",
       "      <th>CHAS</th>\n",
       "      <th>NOX</th>\n",
       "      <th>RM</th>\n",
       "      <th>AGE</th>\n",
       "      <th>DIS</th>\n",
       "      <th>RAD</th>\n",
       "      <th>...</th>\n",
       "      <th>PTRATIO</th>\n",
       "      <th>B</th>\n",
       "      <th>LSTAT</th>\n",
       "      <th>CRIM(C)</th>\n",
       "      <th>ZN(C)</th>\n",
       "      <th>INDUS(C)</th>\n",
       "      <th>NOX(C)</th>\n",
       "      <th>B(C)</th>\n",
       "      <th>RM(C)</th>\n",
       "      <th>AGE(C)</th>\n",
       "    </tr>\n",
       "  </thead>\n",
       "  <tbody>\n",
       "    <tr>\n",
       "      <th>0</th>\n",
       "      <td>24.000000</td>\n",
       "      <td>0.00632</td>\n",
       "      <td>18.0</td>\n",
       "      <td>2.31</td>\n",
       "      <td>0</td>\n",
       "      <td>0.538</td>\n",
       "      <td>6.575</td>\n",
       "      <td>65.199997</td>\n",
       "      <td>4.0900</td>\n",
       "      <td>1</td>\n",
       "      <td>...</td>\n",
       "      <td>15.300000</td>\n",
       "      <td>396.899994</td>\n",
       "      <td>4.98</td>\n",
       "      <td>1</td>\n",
       "      <td>1</td>\n",
       "      <td>0</td>\n",
       "      <td>2.0</td>\n",
       "      <td>5</td>\n",
       "      <td>1</td>\n",
       "      <td>2</td>\n",
       "    </tr>\n",
       "    <tr>\n",
       "      <th>1</th>\n",
       "      <td>21.600000</td>\n",
       "      <td>0.02731</td>\n",
       "      <td>0.0</td>\n",
       "      <td>7.07</td>\n",
       "      <td>0</td>\n",
       "      <td>0.469</td>\n",
       "      <td>6.421</td>\n",
       "      <td>78.900002</td>\n",
       "      <td>4.9671</td>\n",
       "      <td>2</td>\n",
       "      <td>...</td>\n",
       "      <td>17.799999</td>\n",
       "      <td>396.899994</td>\n",
       "      <td>9.14</td>\n",
       "      <td>1</td>\n",
       "      <td>1</td>\n",
       "      <td>0</td>\n",
       "      <td>1.0</td>\n",
       "      <td>5</td>\n",
       "      <td>1</td>\n",
       "      <td>1</td>\n",
       "    </tr>\n",
       "    <tr>\n",
       "      <th>2</th>\n",
       "      <td>34.700001</td>\n",
       "      <td>0.02729</td>\n",
       "      <td>0.0</td>\n",
       "      <td>7.07</td>\n",
       "      <td>0</td>\n",
       "      <td>0.469</td>\n",
       "      <td>7.185</td>\n",
       "      <td>61.099998</td>\n",
       "      <td>4.9671</td>\n",
       "      <td>2</td>\n",
       "      <td>...</td>\n",
       "      <td>17.799999</td>\n",
       "      <td>392.829987</td>\n",
       "      <td>4.03</td>\n",
       "      <td>1</td>\n",
       "      <td>1</td>\n",
       "      <td>0</td>\n",
       "      <td>1.0</td>\n",
       "      <td>5</td>\n",
       "      <td>1</td>\n",
       "      <td>2</td>\n",
       "    </tr>\n",
       "    <tr>\n",
       "      <th>3</th>\n",
       "      <td>33.400002</td>\n",
       "      <td>0.03237</td>\n",
       "      <td>0.0</td>\n",
       "      <td>2.18</td>\n",
       "      <td>0</td>\n",
       "      <td>0.458</td>\n",
       "      <td>6.998</td>\n",
       "      <td>45.799999</td>\n",
       "      <td>6.0622</td>\n",
       "      <td>3</td>\n",
       "      <td>...</td>\n",
       "      <td>18.700001</td>\n",
       "      <td>394.630005</td>\n",
       "      <td>2.94</td>\n",
       "      <td>1</td>\n",
       "      <td>1</td>\n",
       "      <td>0</td>\n",
       "      <td>1.0</td>\n",
       "      <td>5</td>\n",
       "      <td>1</td>\n",
       "      <td>2</td>\n",
       "    </tr>\n",
       "    <tr>\n",
       "      <th>4</th>\n",
       "      <td>36.200001</td>\n",
       "      <td>0.06905</td>\n",
       "      <td>0.0</td>\n",
       "      <td>2.18</td>\n",
       "      <td>0</td>\n",
       "      <td>0.458</td>\n",
       "      <td>7.147</td>\n",
       "      <td>54.200001</td>\n",
       "      <td>6.0622</td>\n",
       "      <td>3</td>\n",
       "      <td>...</td>\n",
       "      <td>18.700001</td>\n",
       "      <td>396.899994</td>\n",
       "      <td>5.33</td>\n",
       "      <td>1</td>\n",
       "      <td>1</td>\n",
       "      <td>0</td>\n",
       "      <td>1.0</td>\n",
       "      <td>5</td>\n",
       "      <td>1</td>\n",
       "      <td>2</td>\n",
       "    </tr>\n",
       "    <tr>\n",
       "      <th>...</th>\n",
       "      <td>...</td>\n",
       "      <td>...</td>\n",
       "      <td>...</td>\n",
       "      <td>...</td>\n",
       "      <td>...</td>\n",
       "      <td>...</td>\n",
       "      <td>...</td>\n",
       "      <td>...</td>\n",
       "      <td>...</td>\n",
       "      <td>...</td>\n",
       "      <td>...</td>\n",
       "      <td>...</td>\n",
       "      <td>...</td>\n",
       "      <td>...</td>\n",
       "      <td>...</td>\n",
       "      <td>...</td>\n",
       "      <td>...</td>\n",
       "      <td>...</td>\n",
       "      <td>...</td>\n",
       "      <td>...</td>\n",
       "      <td>...</td>\n",
       "    </tr>\n",
       "    <tr>\n",
       "      <th>501</th>\n",
       "      <td>22.400000</td>\n",
       "      <td>0.06263</td>\n",
       "      <td>0.0</td>\n",
       "      <td>11.93</td>\n",
       "      <td>0</td>\n",
       "      <td>0.573</td>\n",
       "      <td>6.593</td>\n",
       "      <td>69.099998</td>\n",
       "      <td>2.4786</td>\n",
       "      <td>1</td>\n",
       "      <td>...</td>\n",
       "      <td>21.000000</td>\n",
       "      <td>391.989990</td>\n",
       "      <td>9.67</td>\n",
       "      <td>1</td>\n",
       "      <td>1</td>\n",
       "      <td>0</td>\n",
       "      <td>2.0</td>\n",
       "      <td>5</td>\n",
       "      <td>1</td>\n",
       "      <td>1</td>\n",
       "    </tr>\n",
       "    <tr>\n",
       "      <th>502</th>\n",
       "      <td>20.600000</td>\n",
       "      <td>0.04527</td>\n",
       "      <td>0.0</td>\n",
       "      <td>11.93</td>\n",
       "      <td>0</td>\n",
       "      <td>0.573</td>\n",
       "      <td>6.120</td>\n",
       "      <td>76.699997</td>\n",
       "      <td>2.2875</td>\n",
       "      <td>1</td>\n",
       "      <td>...</td>\n",
       "      <td>21.000000</td>\n",
       "      <td>396.899994</td>\n",
       "      <td>9.08</td>\n",
       "      <td>1</td>\n",
       "      <td>1</td>\n",
       "      <td>0</td>\n",
       "      <td>2.0</td>\n",
       "      <td>5</td>\n",
       "      <td>1</td>\n",
       "      <td>1</td>\n",
       "    </tr>\n",
       "    <tr>\n",
       "      <th>503</th>\n",
       "      <td>23.900000</td>\n",
       "      <td>0.06076</td>\n",
       "      <td>0.0</td>\n",
       "      <td>11.93</td>\n",
       "      <td>0</td>\n",
       "      <td>0.573</td>\n",
       "      <td>6.976</td>\n",
       "      <td>91.000000</td>\n",
       "      <td>2.1675</td>\n",
       "      <td>1</td>\n",
       "      <td>...</td>\n",
       "      <td>21.000000</td>\n",
       "      <td>396.899994</td>\n",
       "      <td>5.64</td>\n",
       "      <td>1</td>\n",
       "      <td>1</td>\n",
       "      <td>0</td>\n",
       "      <td>2.0</td>\n",
       "      <td>5</td>\n",
       "      <td>1</td>\n",
       "      <td>1</td>\n",
       "    </tr>\n",
       "    <tr>\n",
       "      <th>504</th>\n",
       "      <td>22.000000</td>\n",
       "      <td>0.10959</td>\n",
       "      <td>0.0</td>\n",
       "      <td>11.93</td>\n",
       "      <td>0</td>\n",
       "      <td>0.573</td>\n",
       "      <td>6.794</td>\n",
       "      <td>89.300003</td>\n",
       "      <td>2.3889</td>\n",
       "      <td>1</td>\n",
       "      <td>...</td>\n",
       "      <td>21.000000</td>\n",
       "      <td>393.450012</td>\n",
       "      <td>6.48</td>\n",
       "      <td>1</td>\n",
       "      <td>1</td>\n",
       "      <td>0</td>\n",
       "      <td>2.0</td>\n",
       "      <td>5</td>\n",
       "      <td>1</td>\n",
       "      <td>1</td>\n",
       "    </tr>\n",
       "    <tr>\n",
       "      <th>505</th>\n",
       "      <td>11.900000</td>\n",
       "      <td>0.04741</td>\n",
       "      <td>0.0</td>\n",
       "      <td>11.93</td>\n",
       "      <td>0</td>\n",
       "      <td>0.573</td>\n",
       "      <td>6.030</td>\n",
       "      <td>80.800003</td>\n",
       "      <td>2.5050</td>\n",
       "      <td>1</td>\n",
       "      <td>...</td>\n",
       "      <td>21.000000</td>\n",
       "      <td>396.899994</td>\n",
       "      <td>7.88</td>\n",
       "      <td>1</td>\n",
       "      <td>1</td>\n",
       "      <td>0</td>\n",
       "      <td>2.0</td>\n",
       "      <td>5</td>\n",
       "      <td>1</td>\n",
       "      <td>1</td>\n",
       "    </tr>\n",
       "  </tbody>\n",
       "</table>\n",
       "<p>506 rows × 21 columns</p>\n",
       "</div>"
      ],
      "text/plain": [
       "          MEDV     CRIM    ZN  INDUS  CHAS    NOX     RM        AGE     DIS  \\\n",
       "0    24.000000  0.00632  18.0   2.31     0  0.538  6.575  65.199997  4.0900   \n",
       "1    21.600000  0.02731   0.0   7.07     0  0.469  6.421  78.900002  4.9671   \n",
       "2    34.700001  0.02729   0.0   7.07     0  0.469  7.185  61.099998  4.9671   \n",
       "3    33.400002  0.03237   0.0   2.18     0  0.458  6.998  45.799999  6.0622   \n",
       "4    36.200001  0.06905   0.0   2.18     0  0.458  7.147  54.200001  6.0622   \n",
       "..         ...      ...   ...    ...   ...    ...    ...        ...     ...   \n",
       "501  22.400000  0.06263   0.0  11.93     0  0.573  6.593  69.099998  2.4786   \n",
       "502  20.600000  0.04527   0.0  11.93     0  0.573  6.120  76.699997  2.2875   \n",
       "503  23.900000  0.06076   0.0  11.93     0  0.573  6.976  91.000000  2.1675   \n",
       "504  22.000000  0.10959   0.0  11.93     0  0.573  6.794  89.300003  2.3889   \n",
       "505  11.900000  0.04741   0.0  11.93     0  0.573  6.030  80.800003  2.5050   \n",
       "\n",
       "     RAD  ...    PTRATIO           B  LSTAT  CRIM(C)  ZN(C)  INDUS(C)  NOX(C)  \\\n",
       "0      1  ...  15.300000  396.899994   4.98        1      1         0     2.0   \n",
       "1      2  ...  17.799999  396.899994   9.14        1      1         0     1.0   \n",
       "2      2  ...  17.799999  392.829987   4.03        1      1         0     1.0   \n",
       "3      3  ...  18.700001  394.630005   2.94        1      1         0     1.0   \n",
       "4      3  ...  18.700001  396.899994   5.33        1      1         0     1.0   \n",
       "..   ...  ...        ...         ...    ...      ...    ...       ...     ...   \n",
       "501    1  ...  21.000000  391.989990   9.67        1      1         0     2.0   \n",
       "502    1  ...  21.000000  396.899994   9.08        1      1         0     2.0   \n",
       "503    1  ...  21.000000  396.899994   5.64        1      1         0     2.0   \n",
       "504    1  ...  21.000000  393.450012   6.48        1      1         0     2.0   \n",
       "505    1  ...  21.000000  396.899994   7.88        1      1         0     2.0   \n",
       "\n",
       "     B(C)  RM(C)  AGE(C)  \n",
       "0       5      1       2  \n",
       "1       5      1       1  \n",
       "2       5      1       2  \n",
       "3       5      1       2  \n",
       "4       5      1       2  \n",
       "..    ...    ...     ...  \n",
       "501     5      1       1  \n",
       "502     5      1       1  \n",
       "503     5      1       1  \n",
       "504     5      1       1  \n",
       "505     5      1       1  \n",
       "\n",
       "[506 rows x 21 columns]"
      ]
     },
     "execution_count": 51,
     "metadata": {},
     "output_type": "execute_result"
    }
   ],
   "source": [
    "df_raw"
   ]
  },
  {
   "cell_type": "code",
   "execution_count": 52,
   "metadata": {},
   "outputs": [
    {
     "data": {
      "text/plain": [
       "1    295\n",
       "2    211\n",
       "dtype: int64"
      ]
     },
     "execution_count": 52,
     "metadata": {},
     "output_type": "execute_result"
    }
   ],
   "source": [
    "df_raw[['AGE(C)']]\n",
    "pd.value_counts(df_raw['AGE(C)'].values)"
   ]
  },
  {
   "cell_type": "code",
   "execution_count": 53,
   "metadata": {},
   "outputs": [
    {
     "data": {
      "text/plain": [
       "<matplotlib.axes._subplots.AxesSubplot at 0x7fbb8067a7d0>"
      ]
     },
     "execution_count": 53,
     "metadata": {},
     "output_type": "execute_result"
    },
    {
     "data": {
      "image/png": "[encoded data removed]",
      "text/plain": [
       "<Figure size 432x288 with 1 Axes>"
      ]
     },
     "metadata": {
      "needs_background": "light"
     },
     "output_type": "display_data"
    }
   ],
   "source": [
    "df_raw.boxplot(column = 'MEDV', by = ['AGE(C)'])"
   ]
  },
  {
   "cell_type": "markdown",
   "metadata": {},
   "source": [
    "마찬가지로, 주거당 평균 평균 노후 건물 비율에 따른 가격 변동이 보이기 때문에 이 변수를 후보에서 채택하는 것을 고려해 봅니다.\n",
    "예상과는 달리 노후 건물 비율이 커짐에 따라 대체로 집값이 증가하는 현상을 보였습니다."
   ]
  },
  {
   "cell_type": "code",
   "execution_count": 54,
   "metadata": {},
   "outputs": [],
   "source": [
    "df_raw['DIS(C)'] = 0"
   ]
  },
  {
   "cell_type": "code",
   "execution_count": 55,
   "metadata": {},
   "outputs": [],
   "source": [
    "# 중심지 접근 거리(DIS)를 중심으로 구간 나누기\n",
    "df_raw.loc[3.5<=df_raw['DIS'],'DIS(C)'] = 1\n",
    "df_raw.loc[df_raw['DIS']<3.5,'DIS(C)'] = 2"
   ]
  },
  {
   "cell_type": "code",
   "execution_count": 56,
   "metadata": {},
   "outputs": [
    {
     "data": {
      "text/plain": [
       "2    278\n",
       "1    228\n",
       "dtype: int64"
      ]
     },
     "execution_count": 56,
     "metadata": {},
     "output_type": "execute_result"
    }
   ],
   "source": [
    "df_raw[['DIS(C)']]\n",
    "pd.value_counts(df_raw['DIS(C)'].values)"
   ]
  },
  {
   "cell_type": "code",
   "execution_count": 57,
   "metadata": {},
   "outputs": [
    {
     "data": {
      "text/plain": [
       "<matplotlib.axes._subplots.AxesSubplot at 0x7fbb8008ed10>"
      ]
     },
     "execution_count": 57,
     "metadata": {},
     "output_type": "execute_result"
    },
    {
     "data": {
      "image/png": "[encoded data removed]",
      "text/plain": [
       "<Figure size 432x288 with 1 Axes>"
      ]
     },
     "metadata": {
      "needs_background": "light"
     },
     "output_type": "display_data"
    }
   ],
   "source": [
    "df_raw.boxplot(column = 'MEDV', by = ['DIS(C)'])"
   ]
  },
  {
   "cell_type": "markdown",
   "metadata": {},
   "source": [
    "중심지 접근거리에 따른 가격 평균이 대체로 비슷하군요! 하지만 산점도 그래프 분석에서 선형 관계를 확인할 수 있었기 때문에 이 변수를 후보에서 채택하는 것을 고려해 봅니다."
   ]
  },
  {
   "cell_type": "code",
   "execution_count": 58,
   "metadata": {},
   "outputs": [],
   "source": [
    "df_raw['RAD(C)'] = 0"
   ]
  },
  {
   "cell_type": "code",
   "execution_count": 59,
   "metadata": {},
   "outputs": [],
   "source": [
    "# 고속도로 접근 편이성 지수(RAD)를 중심으로 구간 나누기\n",
    "df_raw.loc[0<=df_raw['RAD'],'RAD(C)'] = 1\n",
    "df_raw.loc[df_raw['RAD']<10,'RAD(C)'] = 2"
   ]
  },
  {
   "cell_type": "code",
   "execution_count": 60,
   "metadata": {},
   "outputs": [],
   "source": [
    "df_raw.loc[(0<=df_raw['ZN']) & (df_raw['ZN']<=20),'ZN(C)'] = 1\n",
    "df_raw.loc[(20<=df_raw['ZN']) & (df_raw['ZN']<=40),'ZN(C)'] = 2\n",
    "df_raw.loc[(40<=df_raw['ZN']) & (df_raw['ZN']<=60),'ZN(C)'] = 3\n",
    "df_raw.loc[(60<=df_raw['ZN']) & (df_raw['ZN']<=80),'ZN(C)'] = 4\n",
    "df_raw.loc[(80<=df_raw['ZN']) & (df_raw['ZN']<=100),'ZN(C)'] = 5"
   ]
  },
  {
   "cell_type": "code",
   "execution_count": 61,
   "metadata": {},
   "outputs": [
    {
     "data": {
      "text/html": [
       "<div>\n",
       "<style scoped>\n",
       "    .dataframe tbody tr th:only-of-type {\n",
       "        vertical-align: middle;\n",
       "    }\n",
       "\n",
       "    .dataframe tbody tr th {\n",
       "        vertical-align: top;\n",
       "    }\n",
       "\n",
       "    .dataframe thead th {\n",
       "        text-align: right;\n",
       "    }\n",
       "</style>\n",
       "<table border=\"1\" class=\"dataframe\">\n",
       "  <thead>\n",
       "    <tr style=\"text-align: right;\">\n",
       "      <th></th>\n",
       "      <th>MEDV</th>\n",
       "      <th>CRIM</th>\n",
       "      <th>ZN</th>\n",
       "      <th>INDUS</th>\n",
       "      <th>CHAS</th>\n",
       "      <th>NOX</th>\n",
       "      <th>RM</th>\n",
       "      <th>AGE</th>\n",
       "      <th>DIS</th>\n",
       "      <th>RAD</th>\n",
       "      <th>...</th>\n",
       "      <th>LSTAT</th>\n",
       "      <th>CRIM(C)</th>\n",
       "      <th>ZN(C)</th>\n",
       "      <th>INDUS(C)</th>\n",
       "      <th>NOX(C)</th>\n",
       "      <th>B(C)</th>\n",
       "      <th>RM(C)</th>\n",
       "      <th>AGE(C)</th>\n",
       "      <th>DIS(C)</th>\n",
       "      <th>RAD(C)</th>\n",
       "    </tr>\n",
       "  </thead>\n",
       "  <tbody>\n",
       "    <tr>\n",
       "      <th>0</th>\n",
       "      <td>24.000000</td>\n",
       "      <td>0.00632</td>\n",
       "      <td>18.0</td>\n",
       "      <td>2.31</td>\n",
       "      <td>0</td>\n",
       "      <td>0.538</td>\n",
       "      <td>6.575</td>\n",
       "      <td>65.199997</td>\n",
       "      <td>4.0900</td>\n",
       "      <td>1</td>\n",
       "      <td>...</td>\n",
       "      <td>4.98</td>\n",
       "      <td>1</td>\n",
       "      <td>1</td>\n",
       "      <td>0</td>\n",
       "      <td>2.0</td>\n",
       "      <td>5</td>\n",
       "      <td>1</td>\n",
       "      <td>2</td>\n",
       "      <td>1</td>\n",
       "      <td>2</td>\n",
       "    </tr>\n",
       "    <tr>\n",
       "      <th>1</th>\n",
       "      <td>21.600000</td>\n",
       "      <td>0.02731</td>\n",
       "      <td>0.0</td>\n",
       "      <td>7.07</td>\n",
       "      <td>0</td>\n",
       "      <td>0.469</td>\n",
       "      <td>6.421</td>\n",
       "      <td>78.900002</td>\n",
       "      <td>4.9671</td>\n",
       "      <td>2</td>\n",
       "      <td>...</td>\n",
       "      <td>9.14</td>\n",
       "      <td>1</td>\n",
       "      <td>1</td>\n",
       "      <td>0</td>\n",
       "      <td>1.0</td>\n",
       "      <td>5</td>\n",
       "      <td>1</td>\n",
       "      <td>1</td>\n",
       "      <td>1</td>\n",
       "      <td>2</td>\n",
       "    </tr>\n",
       "    <tr>\n",
       "      <th>2</th>\n",
       "      <td>34.700001</td>\n",
       "      <td>0.02729</td>\n",
       "      <td>0.0</td>\n",
       "      <td>7.07</td>\n",
       "      <td>0</td>\n",
       "      <td>0.469</td>\n",
       "      <td>7.185</td>\n",
       "      <td>61.099998</td>\n",
       "      <td>4.9671</td>\n",
       "      <td>2</td>\n",
       "      <td>...</td>\n",
       "      <td>4.03</td>\n",
       "      <td>1</td>\n",
       "      <td>1</td>\n",
       "      <td>0</td>\n",
       "      <td>1.0</td>\n",
       "      <td>5</td>\n",
       "      <td>1</td>\n",
       "      <td>2</td>\n",
       "      <td>1</td>\n",
       "      <td>2</td>\n",
       "    </tr>\n",
       "    <tr>\n",
       "      <th>3</th>\n",
       "      <td>33.400002</td>\n",
       "      <td>0.03237</td>\n",
       "      <td>0.0</td>\n",
       "      <td>2.18</td>\n",
       "      <td>0</td>\n",
       "      <td>0.458</td>\n",
       "      <td>6.998</td>\n",
       "      <td>45.799999</td>\n",
       "      <td>6.0622</td>\n",
       "      <td>3</td>\n",
       "      <td>...</td>\n",
       "      <td>2.94</td>\n",
       "      <td>1</td>\n",
       "      <td>1</td>\n",
       "      <td>0</td>\n",
       "      <td>1.0</td>\n",
       "      <td>5</td>\n",
       "      <td>1</td>\n",
       "      <td>2</td>\n",
       "      <td>1</td>\n",
       "      <td>2</td>\n",
       "    </tr>\n",
       "    <tr>\n",
       "      <th>4</th>\n",
       "      <td>36.200001</td>\n",
       "      <td>0.06905</td>\n",
       "      <td>0.0</td>\n",
       "      <td>2.18</td>\n",
       "      <td>0</td>\n",
       "      <td>0.458</td>\n",
       "      <td>7.147</td>\n",
       "      <td>54.200001</td>\n",
       "      <td>6.0622</td>\n",
       "      <td>3</td>\n",
       "      <td>...</td>\n",
       "      <td>5.33</td>\n",
       "      <td>1</td>\n",
       "      <td>1</td>\n",
       "      <td>0</td>\n",
       "      <td>1.0</td>\n",
       "      <td>5</td>\n",
       "      <td>1</td>\n",
       "      <td>2</td>\n",
       "      <td>1</td>\n",
       "      <td>2</td>\n",
       "    </tr>\n",
       "    <tr>\n",
       "      <th>...</th>\n",
       "      <td>...</td>\n",
       "      <td>...</td>\n",
       "      <td>...</td>\n",
       "      <td>...</td>\n",
       "      <td>...</td>\n",
       "      <td>...</td>\n",
       "      <td>...</td>\n",
       "      <td>...</td>\n",
       "      <td>...</td>\n",
       "      <td>...</td>\n",
       "      <td>...</td>\n",
       "      <td>...</td>\n",
       "      <td>...</td>\n",
       "      <td>...</td>\n",
       "      <td>...</td>\n",
       "      <td>...</td>\n",
       "      <td>...</td>\n",
       "      <td>...</td>\n",
       "      <td>...</td>\n",
       "      <td>...</td>\n",
       "      <td>...</td>\n",
       "    </tr>\n",
       "    <tr>\n",
       "      <th>501</th>\n",
       "      <td>22.400000</td>\n",
       "      <td>0.06263</td>\n",
       "      <td>0.0</td>\n",
       "      <td>11.93</td>\n",
       "      <td>0</td>\n",
       "      <td>0.573</td>\n",
       "      <td>6.593</td>\n",
       "      <td>69.099998</td>\n",
       "      <td>2.4786</td>\n",
       "      <td>1</td>\n",
       "      <td>...</td>\n",
       "      <td>9.67</td>\n",
       "      <td>1</td>\n",
       "      <td>1</td>\n",
       "      <td>0</td>\n",
       "      <td>2.0</td>\n",
       "      <td>5</td>\n",
       "      <td>1</td>\n",
       "      <td>1</td>\n",
       "      <td>2</td>\n",
       "      <td>2</td>\n",
       "    </tr>\n",
       "    <tr>\n",
       "      <th>502</th>\n",
       "      <td>20.600000</td>\n",
       "      <td>0.04527</td>\n",
       "      <td>0.0</td>\n",
       "      <td>11.93</td>\n",
       "      <td>0</td>\n",
       "      <td>0.573</td>\n",
       "      <td>6.120</td>\n",
       "      <td>76.699997</td>\n",
       "      <td>2.2875</td>\n",
       "      <td>1</td>\n",
       "      <td>...</td>\n",
       "      <td>9.08</td>\n",
       "      <td>1</td>\n",
       "      <td>1</td>\n",
       "      <td>0</td>\n",
       "      <td>2.0</td>\n",
       "      <td>5</td>\n",
       "      <td>1</td>\n",
       "      <td>1</td>\n",
       "      <td>2</td>\n",
       "      <td>2</td>\n",
       "    </tr>\n",
       "    <tr>\n",
       "      <th>503</th>\n",
       "      <td>23.900000</td>\n",
       "      <td>0.06076</td>\n",
       "      <td>0.0</td>\n",
       "      <td>11.93</td>\n",
       "      <td>0</td>\n",
       "      <td>0.573</td>\n",
       "      <td>6.976</td>\n",
       "      <td>91.000000</td>\n",
       "      <td>2.1675</td>\n",
       "      <td>1</td>\n",
       "      <td>...</td>\n",
       "      <td>5.64</td>\n",
       "      <td>1</td>\n",
       "      <td>1</td>\n",
       "      <td>0</td>\n",
       "      <td>2.0</td>\n",
       "      <td>5</td>\n",
       "      <td>1</td>\n",
       "      <td>1</td>\n",
       "      <td>2</td>\n",
       "      <td>2</td>\n",
       "    </tr>\n",
       "    <tr>\n",
       "      <th>504</th>\n",
       "      <td>22.000000</td>\n",
       "      <td>0.10959</td>\n",
       "      <td>0.0</td>\n",
       "      <td>11.93</td>\n",
       "      <td>0</td>\n",
       "      <td>0.573</td>\n",
       "      <td>6.794</td>\n",
       "      <td>89.300003</td>\n",
       "      <td>2.3889</td>\n",
       "      <td>1</td>\n",
       "      <td>...</td>\n",
       "      <td>6.48</td>\n",
       "      <td>1</td>\n",
       "      <td>1</td>\n",
       "      <td>0</td>\n",
       "      <td>2.0</td>\n",
       "      <td>5</td>\n",
       "      <td>1</td>\n",
       "      <td>1</td>\n",
       "      <td>2</td>\n",
       "      <td>2</td>\n",
       "    </tr>\n",
       "    <tr>\n",
       "      <th>505</th>\n",
       "      <td>11.900000</td>\n",
       "      <td>0.04741</td>\n",
       "      <td>0.0</td>\n",
       "      <td>11.93</td>\n",
       "      <td>0</td>\n",
       "      <td>0.573</td>\n",
       "      <td>6.030</td>\n",
       "      <td>80.800003</td>\n",
       "      <td>2.5050</td>\n",
       "      <td>1</td>\n",
       "      <td>...</td>\n",
       "      <td>7.88</td>\n",
       "      <td>1</td>\n",
       "      <td>1</td>\n",
       "      <td>0</td>\n",
       "      <td>2.0</td>\n",
       "      <td>5</td>\n",
       "      <td>1</td>\n",
       "      <td>1</td>\n",
       "      <td>2</td>\n",
       "      <td>2</td>\n",
       "    </tr>\n",
       "  </tbody>\n",
       "</table>\n",
       "<p>506 rows × 23 columns</p>\n",
       "</div>"
      ],
      "text/plain": [
       "          MEDV     CRIM    ZN  INDUS  CHAS    NOX     RM        AGE     DIS  \\\n",
       "0    24.000000  0.00632  18.0   2.31     0  0.538  6.575  65.199997  4.0900   \n",
       "1    21.600000  0.02731   0.0   7.07     0  0.469  6.421  78.900002  4.9671   \n",
       "2    34.700001  0.02729   0.0   7.07     0  0.469  7.185  61.099998  4.9671   \n",
       "3    33.400002  0.03237   0.0   2.18     0  0.458  6.998  45.799999  6.0622   \n",
       "4    36.200001  0.06905   0.0   2.18     0  0.458  7.147  54.200001  6.0622   \n",
       "..         ...      ...   ...    ...   ...    ...    ...        ...     ...   \n",
       "501  22.400000  0.06263   0.0  11.93     0  0.573  6.593  69.099998  2.4786   \n",
       "502  20.600000  0.04527   0.0  11.93     0  0.573  6.120  76.699997  2.2875   \n",
       "503  23.900000  0.06076   0.0  11.93     0  0.573  6.976  91.000000  2.1675   \n",
       "504  22.000000  0.10959   0.0  11.93     0  0.573  6.794  89.300003  2.3889   \n",
       "505  11.900000  0.04741   0.0  11.93     0  0.573  6.030  80.800003  2.5050   \n",
       "\n",
       "     RAD  ...  LSTAT  CRIM(C)  ZN(C)  INDUS(C)  NOX(C)  B(C)  RM(C)  AGE(C)  \\\n",
       "0      1  ...   4.98        1      1         0     2.0     5      1       2   \n",
       "1      2  ...   9.14        1      1         0     1.0     5      1       1   \n",
       "2      2  ...   4.03        1      1         0     1.0     5      1       2   \n",
       "3      3  ...   2.94        1      1         0     1.0     5      1       2   \n",
       "4      3  ...   5.33        1      1         0     1.0     5      1       2   \n",
       "..   ...  ...    ...      ...    ...       ...     ...   ...    ...     ...   \n",
       "501    1  ...   9.67        1      1         0     2.0     5      1       1   \n",
       "502    1  ...   9.08        1      1         0     2.0     5      1       1   \n",
       "503    1  ...   5.64        1      1         0     2.0     5      1       1   \n",
       "504    1  ...   6.48        1      1         0     2.0     5      1       1   \n",
       "505    1  ...   7.88        1      1         0     2.0     5      1       1   \n",
       "\n",
       "     DIS(C)  RAD(C)  \n",
       "0         1       2  \n",
       "1         1       2  \n",
       "2         1       2  \n",
       "3         1       2  \n",
       "4         1       2  \n",
       "..      ...     ...  \n",
       "501       2       2  \n",
       "502       2       2  \n",
       "503       2       2  \n",
       "504       2       2  \n",
       "505       2       2  \n",
       "\n",
       "[506 rows x 23 columns]"
      ]
     },
     "execution_count": 61,
     "metadata": {},
     "output_type": "execute_result"
    }
   ],
   "source": [
    "df_raw"
   ]
  },
  {
   "cell_type": "code",
   "execution_count": 62,
   "metadata": {},
   "outputs": [
    {
     "data": {
      "text/plain": [
       "2    374\n",
       "1    132\n",
       "dtype: int64"
      ]
     },
     "execution_count": 62,
     "metadata": {},
     "output_type": "execute_result"
    }
   ],
   "source": [
    "df_raw[['RAD(C)']]\n",
    "pd.value_counts(df_raw['RAD(C)'].values)"
   ]
  },
  {
   "cell_type": "code",
   "execution_count": 63,
   "metadata": {
    "scrolled": false
   },
   "outputs": [
    {
     "data": {
      "text/plain": [
       "<matplotlib.axes._subplots.AxesSubplot at 0x7fbb826a63d0>"
      ]
     },
     "execution_count": 63,
     "metadata": {},
     "output_type": "execute_result"
    },
    {
     "data": {
      "image/png": "[encoded data removed]",
      "text/plain": [
       "<Figure size 432x288 with 1 Axes>"
      ]
     },
     "metadata": {
      "needs_background": "light"
     },
     "output_type": "display_data"
    }
   ],
   "source": [
    "df_raw.boxplot(column = 'MEDV', by = ['RAD(C)'])"
   ]
  },
  {
   "cell_type": "markdown",
   "metadata": {},
   "source": [
    "예상했던 대로 고속도로와 접근이 편리하면 가격이 올라가는 경향이 있는 것을 확인할 수 있습니다. 특히 땅이 넓은 미국에서는 교통의 편의성이 아주 중요합니다. 따라서 고속도로 접근 편이성 지수 변수를 후보로 채택하는 것을 고려해 봅니다."
   ]
  },
  {
   "cell_type": "code",
   "execution_count": 64,
   "metadata": {},
   "outputs": [],
   "source": [
    "df_raw['TAX(C)'] = 0\n",
    "# 세금(TAX)을 중심으로 구간 나누기\n",
    "df_raw.loc[(0<=df_raw['TAX']) & (df_raw['TAX']<=408),'TAX(C)'] = 1\n",
    "df_raw.loc[(408<df_raw['TAX']),'TAX(C)'] = 2"
   ]
  },
  {
   "cell_type": "code",
   "execution_count": 65,
   "metadata": {},
   "outputs": [
    {
     "data": {
      "text/plain": [
       "1    338\n",
       "2    168\n",
       "dtype: int64"
      ]
     },
     "execution_count": 65,
     "metadata": {},
     "output_type": "execute_result"
    }
   ],
   "source": [
    "pd.value_counts(df_raw['TAX(C)'].values)"
   ]
  },
  {
   "cell_type": "code",
   "execution_count": 66,
   "metadata": {},
   "outputs": [
    {
     "data": {
      "text/plain": [
       "<matplotlib.axes._subplots.AxesSubplot at 0x7fbb80056290>"
      ]
     },
     "execution_count": 66,
     "metadata": {},
     "output_type": "execute_result"
    },
    {
     "data": {
      "image/png": "[encoded data removed]",
      "text/plain": [
       "<Figure size 432x288 with 1 Axes>"
      ]
     },
     "metadata": {
      "needs_background": "light"
     },
     "output_type": "display_data"
    }
   ],
   "source": [
    "df_raw.boxplot(column = 'MEDV', by = ['TAX(C)'])"
   ]
  },
  {
   "cell_type": "markdown",
   "metadata": {},
   "source": [
    "예상했던 대로 재산세율이 증가하면 가격이 내려가는 경향이 있는 것을 확인할 수 있습니다. 따라서 이 변수를 후보로 채택하는 것을 고려해 봅니다."
   ]
  },
  {
   "cell_type": "code",
   "execution_count": 67,
   "metadata": {},
   "outputs": [],
   "source": [
    "df_raw['PTRATIO(C)'] = 0\n",
    "# 학생당 교사 비율(RAD)를 중심으로 구간 나누기\n",
    "df_raw.loc[(0<=df_raw['PTRATIO']) & (df_raw['PTRATIO']<=18),'PTRATIO(C)'] = 1\n",
    "df_raw.loc[(18<df_raw['PTRATIO']),'PTRATIO(C)'] = 2"
   ]
  },
  {
   "cell_type": "code",
   "execution_count": 68,
   "metadata": {},
   "outputs": [
    {
     "data": {
      "text/plain": [
       "2    316\n",
       "1    190\n",
       "dtype: int64"
      ]
     },
     "execution_count": 68,
     "metadata": {},
     "output_type": "execute_result"
    }
   ],
   "source": [
    "pd.value_counts(df_raw['PTRATIO(C)'].values)"
   ]
  },
  {
   "cell_type": "code",
   "execution_count": 69,
   "metadata": {},
   "outputs": [
    {
     "data": {
      "text/plain": [
       "<matplotlib.axes._subplots.AxesSubplot at 0x7fbb806ef1d0>"
      ]
     },
     "execution_count": 69,
     "metadata": {},
     "output_type": "execute_result"
    },
    {
     "data": {
      "image/png": "[encoded data removed]",
      "text/plain": [
       "<Figure size 432x288 with 1 Axes>"
      ]
     },
     "metadata": {
      "needs_background": "light"
     },
     "output_type": "display_data"
    }
   ],
   "source": [
    "df_raw.boxplot(column = 'MEDV', by = ['PTRATIO(C)'])"
   ]
  },
  {
   "cell_type": "markdown",
   "metadata": {},
   "source": [
    "학생당 교사 비율이 증가하면 집 가격이 내려가는 경향이 있는 것을 확인할 수 있습니다.  \n",
    "이 값이 평균 0.18을 나타냈으므로 한 학교에 평균 교사 18명, 학생 100명이 있다고 볼 수 있습니다.  \n",
    "이를 고려해 볼 때 PTRATIO 수치가 늘어나면 한 학생이 학교에서 만나게 되는 교사 수가 많아진다는 뜻이고, 이 현상의 원인 중의 하나로 주변 학교들의 폐교를 들 수 있겠습니다. 이 때문에 주변 학교에서 근무하던 교사가 인근 학교로 몰리면서 이 현상이 발생한 것으로 추측됩니다. 이 변수를 후보로 채택하는 것을 고려해 봅니다."
   ]
  },
  {
   "cell_type": "code",
   "execution_count": 70,
   "metadata": {},
   "outputs": [],
   "source": [
    "df_raw['LSTAT(C)'] = 0\n",
    "# 저소득층 비율(LSTAT)을 중심으로 구간 나누기\n",
    "df_raw.loc[(0<=df_raw['LSTAT']) & (df_raw['LSTAT']<=13),'LSTAT(C)'] = 1\n",
    "df_raw.loc[(13<df_raw['LSTAT']),'LSTAT(C)'] = 2"
   ]
  },
  {
   "cell_type": "code",
   "execution_count": 71,
   "metadata": {},
   "outputs": [
    {
     "data": {
      "text/plain": [
       "1    294\n",
       "2    212\n",
       "dtype: int64"
      ]
     },
     "execution_count": 71,
     "metadata": {},
     "output_type": "execute_result"
    }
   ],
   "source": [
    "pd.value_counts(df_raw['LSTAT(C)'].values)"
   ]
  },
  {
   "cell_type": "code",
   "execution_count": 72,
   "metadata": {},
   "outputs": [
    {
     "data": {
      "text/plain": [
       "<matplotlib.axes._subplots.AxesSubplot at 0x7fbb806b29d0>"
      ]
     },
     "execution_count": 72,
     "metadata": {},
     "output_type": "execute_result"
    },
    {
     "data": {
      "image/png": "[encoded data removed]",
      "text/plain": [
       "<Figure size 432x288 with 1 Axes>"
      ]
     },
     "metadata": {
      "needs_background": "light"
     },
     "output_type": "display_data"
    }
   ],
   "source": [
    "df_raw.boxplot(column = 'MEDV', by = ['LSTAT(C)'])"
   ]
  },
  {
   "cell_type": "markdown",
   "metadata": {},
   "source": [
    "예상했던 대로 저소득층 비율이 높으면 집값이 낮아지는 것을 확인할 수 있었습니다. 산점도 그래프 분석으로부터 선형관계가 확실하다는 것을 파악했으므로 이 변수를 후보로 채택하는 것을 고려해 봅니다."
   ]
  },
  {
   "cell_type": "code",
   "execution_count": 73,
   "metadata": {},
   "outputs": [],
   "source": [
    "# 변수 선택\n",
    "df_raw.drop(['CHAS','B','INDUS(C)','NOX(C)','B(C)','RM(C)','AGE(C)','DIS(C)',\n",
    "             'RAD(C)','TAX(C)','PTRATIO(C)','LSTAT(C)','CRIM(C)','ZN(C)'], axis = 1, inplace = True)"
   ]
  },
  {
   "cell_type": "code",
   "execution_count": 74,
   "metadata": {},
   "outputs": [
    {
     "data": {
      "text/html": [
       "<div>\n",
       "<style scoped>\n",
       "    .dataframe tbody tr th:only-of-type {\n",
       "        vertical-align: middle;\n",
       "    }\n",
       "\n",
       "    .dataframe tbody tr th {\n",
       "        vertical-align: top;\n",
       "    }\n",
       "\n",
       "    .dataframe thead th {\n",
       "        text-align: right;\n",
       "    }\n",
       "</style>\n",
       "<table border=\"1\" class=\"dataframe\">\n",
       "  <thead>\n",
       "    <tr style=\"text-align: right;\">\n",
       "      <th></th>\n",
       "      <th>MEDV</th>\n",
       "      <th>CRIM</th>\n",
       "      <th>ZN</th>\n",
       "      <th>INDUS</th>\n",
       "      <th>NOX</th>\n",
       "      <th>RM</th>\n",
       "      <th>AGE</th>\n",
       "      <th>DIS</th>\n",
       "      <th>RAD</th>\n",
       "      <th>TAX</th>\n",
       "      <th>PTRATIO</th>\n",
       "      <th>LSTAT</th>\n",
       "    </tr>\n",
       "  </thead>\n",
       "  <tbody>\n",
       "    <tr>\n",
       "      <th>0</th>\n",
       "      <td>24.000000</td>\n",
       "      <td>0.00632</td>\n",
       "      <td>18.0</td>\n",
       "      <td>2.31</td>\n",
       "      <td>0.538</td>\n",
       "      <td>6.575</td>\n",
       "      <td>65.199997</td>\n",
       "      <td>4.0900</td>\n",
       "      <td>1</td>\n",
       "      <td>296</td>\n",
       "      <td>15.300000</td>\n",
       "      <td>4.98</td>\n",
       "    </tr>\n",
       "    <tr>\n",
       "      <th>1</th>\n",
       "      <td>21.600000</td>\n",
       "      <td>0.02731</td>\n",
       "      <td>0.0</td>\n",
       "      <td>7.07</td>\n",
       "      <td>0.469</td>\n",
       "      <td>6.421</td>\n",
       "      <td>78.900002</td>\n",
       "      <td>4.9671</td>\n",
       "      <td>2</td>\n",
       "      <td>242</td>\n",
       "      <td>17.799999</td>\n",
       "      <td>9.14</td>\n",
       "    </tr>\n",
       "    <tr>\n",
       "      <th>2</th>\n",
       "      <td>34.700001</td>\n",
       "      <td>0.02729</td>\n",
       "      <td>0.0</td>\n",
       "      <td>7.07</td>\n",
       "      <td>0.469</td>\n",
       "      <td>7.185</td>\n",
       "      <td>61.099998</td>\n",
       "      <td>4.9671</td>\n",
       "      <td>2</td>\n",
       "      <td>242</td>\n",
       "      <td>17.799999</td>\n",
       "      <td>4.03</td>\n",
       "    </tr>\n",
       "    <tr>\n",
       "      <th>3</th>\n",
       "      <td>33.400002</td>\n",
       "      <td>0.03237</td>\n",
       "      <td>0.0</td>\n",
       "      <td>2.18</td>\n",
       "      <td>0.458</td>\n",
       "      <td>6.998</td>\n",
       "      <td>45.799999</td>\n",
       "      <td>6.0622</td>\n",
       "      <td>3</td>\n",
       "      <td>222</td>\n",
       "      <td>18.700001</td>\n",
       "      <td>2.94</td>\n",
       "    </tr>\n",
       "    <tr>\n",
       "      <th>4</th>\n",
       "      <td>36.200001</td>\n",
       "      <td>0.06905</td>\n",
       "      <td>0.0</td>\n",
       "      <td>2.18</td>\n",
       "      <td>0.458</td>\n",
       "      <td>7.147</td>\n",
       "      <td>54.200001</td>\n",
       "      <td>6.0622</td>\n",
       "      <td>3</td>\n",
       "      <td>222</td>\n",
       "      <td>18.700001</td>\n",
       "      <td>5.33</td>\n",
       "    </tr>\n",
       "    <tr>\n",
       "      <th>...</th>\n",
       "      <td>...</td>\n",
       "      <td>...</td>\n",
       "      <td>...</td>\n",
       "      <td>...</td>\n",
       "      <td>...</td>\n",
       "      <td>...</td>\n",
       "      <td>...</td>\n",
       "      <td>...</td>\n",
       "      <td>...</td>\n",
       "      <td>...</td>\n",
       "      <td>...</td>\n",
       "      <td>...</td>\n",
       "    </tr>\n",
       "    <tr>\n",
       "      <th>501</th>\n",
       "      <td>22.400000</td>\n",
       "      <td>0.06263</td>\n",
       "      <td>0.0</td>\n",
       "      <td>11.93</td>\n",
       "      <td>0.573</td>\n",
       "      <td>6.593</td>\n",
       "      <td>69.099998</td>\n",
       "      <td>2.4786</td>\n",
       "      <td>1</td>\n",
       "      <td>273</td>\n",
       "      <td>21.000000</td>\n",
       "      <td>9.67</td>\n",
       "    </tr>\n",
       "    <tr>\n",
       "      <th>502</th>\n",
       "      <td>20.600000</td>\n",
       "      <td>0.04527</td>\n",
       "      <td>0.0</td>\n",
       "      <td>11.93</td>\n",
       "      <td>0.573</td>\n",
       "      <td>6.120</td>\n",
       "      <td>76.699997</td>\n",
       "      <td>2.2875</td>\n",
       "      <td>1</td>\n",
       "      <td>273</td>\n",
       "      <td>21.000000</td>\n",
       "      <td>9.08</td>\n",
       "    </tr>\n",
       "    <tr>\n",
       "      <th>503</th>\n",
       "      <td>23.900000</td>\n",
       "      <td>0.06076</td>\n",
       "      <td>0.0</td>\n",
       "      <td>11.93</td>\n",
       "      <td>0.573</td>\n",
       "      <td>6.976</td>\n",
       "      <td>91.000000</td>\n",
       "      <td>2.1675</td>\n",
       "      <td>1</td>\n",
       "      <td>273</td>\n",
       "      <td>21.000000</td>\n",
       "      <td>5.64</td>\n",
       "    </tr>\n",
       "    <tr>\n",
       "      <th>504</th>\n",
       "      <td>22.000000</td>\n",
       "      <td>0.10959</td>\n",
       "      <td>0.0</td>\n",
       "      <td>11.93</td>\n",
       "      <td>0.573</td>\n",
       "      <td>6.794</td>\n",
       "      <td>89.300003</td>\n",
       "      <td>2.3889</td>\n",
       "      <td>1</td>\n",
       "      <td>273</td>\n",
       "      <td>21.000000</td>\n",
       "      <td>6.48</td>\n",
       "    </tr>\n",
       "    <tr>\n",
       "      <th>505</th>\n",
       "      <td>11.900000</td>\n",
       "      <td>0.04741</td>\n",
       "      <td>0.0</td>\n",
       "      <td>11.93</td>\n",
       "      <td>0.573</td>\n",
       "      <td>6.030</td>\n",
       "      <td>80.800003</td>\n",
       "      <td>2.5050</td>\n",
       "      <td>1</td>\n",
       "      <td>273</td>\n",
       "      <td>21.000000</td>\n",
       "      <td>7.88</td>\n",
       "    </tr>\n",
       "  </tbody>\n",
       "</table>\n",
       "<p>506 rows × 12 columns</p>\n",
       "</div>"
      ],
      "text/plain": [
       "          MEDV     CRIM    ZN  INDUS    NOX     RM        AGE     DIS  RAD  \\\n",
       "0    24.000000  0.00632  18.0   2.31  0.538  6.575  65.199997  4.0900    1   \n",
       "1    21.600000  0.02731   0.0   7.07  0.469  6.421  78.900002  4.9671    2   \n",
       "2    34.700001  0.02729   0.0   7.07  0.469  7.185  61.099998  4.9671    2   \n",
       "3    33.400002  0.03237   0.0   2.18  0.458  6.998  45.799999  6.0622    3   \n",
       "4    36.200001  0.06905   0.0   2.18  0.458  7.147  54.200001  6.0622    3   \n",
       "..         ...      ...   ...    ...    ...    ...        ...     ...  ...   \n",
       "501  22.400000  0.06263   0.0  11.93  0.573  6.593  69.099998  2.4786    1   \n",
       "502  20.600000  0.04527   0.0  11.93  0.573  6.120  76.699997  2.2875    1   \n",
       "503  23.900000  0.06076   0.0  11.93  0.573  6.976  91.000000  2.1675    1   \n",
       "504  22.000000  0.10959   0.0  11.93  0.573  6.794  89.300003  2.3889    1   \n",
       "505  11.900000  0.04741   0.0  11.93  0.573  6.030  80.800003  2.5050    1   \n",
       "\n",
       "     TAX    PTRATIO  LSTAT  \n",
       "0    296  15.300000   4.98  \n",
       "1    242  17.799999   9.14  \n",
       "2    242  17.799999   4.03  \n",
       "3    222  18.700001   2.94  \n",
       "4    222  18.700001   5.33  \n",
       "..   ...        ...    ...  \n",
       "501  273  21.000000   9.67  \n",
       "502  273  21.000000   9.08  \n",
       "503  273  21.000000   5.64  \n",
       "504  273  21.000000   6.48  \n",
       "505  273  21.000000   7.88  \n",
       "\n",
       "[506 rows x 12 columns]"
      ]
     },
     "execution_count": 74,
     "metadata": {},
     "output_type": "execute_result"
    }
   ],
   "source": [
    "df_raw"
   ]
  },
  {
   "cell_type": "code",
   "execution_count": 75,
   "metadata": {},
   "outputs": [],
   "source": [
    "# 목표 변수 데이터 지정\n",
    "df_raw_y = df_raw['MEDV']"
   ]
  },
  {
   "cell_type": "code",
   "execution_count": 76,
   "metadata": {},
   "outputs": [],
   "source": [
    "# 설명 변수 데이터 지정\n",
    "df_raw_x = df_raw.drop(['MEDV'], axis = 1, inplace = False)"
   ]
  },
  {
   "cell_type": "markdown",
   "metadata": {},
   "source": [
    "# 모델링\n",
    "\n",
    "이제 데이터 전처리, 탐색적 분석이 끝났으니 본격적으로 모델링을 수행합니다. "
   ]
  },
  {
   "cell_type": "code",
   "execution_count": 77,
   "metadata": {},
   "outputs": [],
   "source": [
    "# 회귀 분석\n",
    "import statsmodels.formula.api as smf"
   ]
  },
  {
   "cell_type": "code",
   "execution_count": 78,
   "metadata": {},
   "outputs": [],
   "source": [
    "# 모델 평가를 위한 함수\n",
    "def root_mean_squared_error(y_true, y_pred) :\n",
    "    return np.sqrt(mean_squared_error(y_true, y_pred))\n",
    "\n",
    "def mean_absolute_percentage_error(y_true, y_pred):\n",
    "    return np.mean(np.abs((y_true - y_pred)/y_true)) * 100"
   ]
  },
  {
   "cell_type": "code",
   "execution_count": 79,
   "metadata": {},
   "outputs": [],
   "source": [
    "models = ['linear regression', 'decision tree', 'random forest', 'gradient boosting']\n",
    "mse, rmse, mae, mape = [],[],[],[]"
   ]
  },
  {
   "cell_type": "code",
   "execution_count": 80,
   "metadata": {},
   "outputs": [
    {
     "data": {
      "text/html": [
       "<div>\n",
       "<style scoped>\n",
       "    .dataframe tbody tr th:only-of-type {\n",
       "        vertical-align: middle;\n",
       "    }\n",
       "\n",
       "    .dataframe tbody tr th {\n",
       "        vertical-align: top;\n",
       "    }\n",
       "\n",
       "    .dataframe thead th {\n",
       "        text-align: right;\n",
       "    }\n",
       "</style>\n",
       "<table border=\"1\" class=\"dataframe\">\n",
       "  <thead>\n",
       "    <tr style=\"text-align: right;\">\n",
       "      <th></th>\n",
       "      <th>variable</th>\n",
       "      <th>VIF</th>\n",
       "    </tr>\n",
       "  </thead>\n",
       "  <tbody>\n",
       "    <tr>\n",
       "      <th>1</th>\n",
       "      <td>CRIM</td>\n",
       "      <td>1.762</td>\n",
       "    </tr>\n",
       "    <tr>\n",
       "      <th>10</th>\n",
       "      <td>PTRATIO</td>\n",
       "      <td>1.782</td>\n",
       "    </tr>\n",
       "    <tr>\n",
       "      <th>5</th>\n",
       "      <td>RM</td>\n",
       "      <td>1.911</td>\n",
       "    </tr>\n",
       "    <tr>\n",
       "      <th>2</th>\n",
       "      <td>ZN</td>\n",
       "      <td>2.298</td>\n",
       "    </tr>\n",
       "    <tr>\n",
       "      <th>11</th>\n",
       "      <td>LSTAT</td>\n",
       "      <td>2.857</td>\n",
       "    </tr>\n",
       "    <tr>\n",
       "      <th>6</th>\n",
       "      <td>AGE</td>\n",
       "      <td>3.079</td>\n",
       "    </tr>\n",
       "    <tr>\n",
       "      <th>3</th>\n",
       "      <td>INDUS</td>\n",
       "      <td>3.946</td>\n",
       "    </tr>\n",
       "    <tr>\n",
       "      <th>7</th>\n",
       "      <td>DIS</td>\n",
       "      <td>3.953</td>\n",
       "    </tr>\n",
       "    <tr>\n",
       "      <th>4</th>\n",
       "      <td>NOX</td>\n",
       "      <td>4.365</td>\n",
       "    </tr>\n",
       "    <tr>\n",
       "      <th>8</th>\n",
       "      <td>RAD</td>\n",
       "      <td>7.364</td>\n",
       "    </tr>\n",
       "    <tr>\n",
       "      <th>9</th>\n",
       "      <td>TAX</td>\n",
       "      <td>8.866</td>\n",
       "    </tr>\n",
       "    <tr>\n",
       "      <th>0</th>\n",
       "      <td>const</td>\n",
       "      <td>534.485</td>\n",
       "    </tr>\n",
       "  </tbody>\n",
       "</table>\n",
       "</div>"
      ],
      "text/plain": [
       "   variable      VIF\n",
       "1      CRIM    1.762\n",
       "10  PTRATIO    1.782\n",
       "5        RM    1.911\n",
       "2        ZN    2.298\n",
       "11    LSTAT    2.857\n",
       "6       AGE    3.079\n",
       "3     INDUS    3.946\n",
       "7       DIS    3.953\n",
       "4       NOX    4.365\n",
       "8       RAD    7.364\n",
       "9       TAX    8.866\n",
       "0     const  534.485"
      ]
     },
     "execution_count": 80,
     "metadata": {},
     "output_type": "execute_result"
    }
   ],
   "source": [
    "# 설명변수간 다중공선성(변수들끼리 끼치는 영향) 10 넘으면 보통 제거\n",
    "\n",
    "\n",
    "#statsmodels의 상수항 추가 함수 적용\n",
    "df_raw_x_const = add_constant(df_raw_x)\n",
    "\n",
    "#DataFrame으로 저장\n",
    "df_vif = pd.DataFrame()\n",
    "df_vif[\"variable\"] = df_raw_x_const.columns\n",
    "df_vif[\"VIF\"] = [variance_inflation_factor(df_raw_x_const.values,i) for i in range(df_raw_x_const.shape[1])]\n",
    "\n",
    "#VIF 정렬\n",
    "df_vif.sort_values(\"VIF\", inplace=True)\n",
    "df_vif.round(3)"
   ]
  },
  {
   "cell_type": "code",
   "execution_count": 81,
   "metadata": {},
   "outputs": [
    {
     "name": "stdout",
     "output_type": "stream",
     "text": [
      "                            OLS Regression Results                            \n",
      "==============================================================================\n",
      "Dep. Variable:                   MEDV   R-squared:                       0.720\n",
      "Model:                            OLS   Adj. R-squared:                  0.715\n",
      "Method:                 Least Squares   F-statistic:                     127.6\n",
      "Date:                Sat, 11 Jul 2020   Prob (F-statistic):          4.22e-130\n",
      "Time:                        13:04:30   Log-Likelihood:                -1517.7\n",
      "No. Observations:                 506   AIC:                             3057.\n",
      "Df Residuals:                     495   BIC:                             3104.\n",
      "Df Model:                          10                                         \n",
      "Covariance Type:            nonrobust                                         \n",
      "==============================================================================\n",
      "                 coef    std err          t      P>|t|      [0.025      0.975]\n",
      "------------------------------------------------------------------------------\n",
      "Intercept     41.7685      5.045      8.279      0.000      31.856      51.682\n",
      "ZN             0.0431      0.014      3.042      0.002       0.015       0.071\n",
      "INDUS          0.0435      0.063      0.688      0.492      -0.081       0.168\n",
      "NOX          -17.5918      3.935     -4.471      0.000     -25.323      -9.861\n",
      "RM             3.7193      0.430      8.650      0.000       2.875       4.564\n",
      "AGE            0.0063      0.014      0.466      0.642      -0.020       0.033\n",
      "DIS           -1.4127      0.205     -6.892      0.000      -1.816      -1.010\n",
      "RAD            0.2416      0.066      3.688      0.000       0.113       0.370\n",
      "TAX           -0.0142      0.004     -3.672      0.000      -0.022      -0.007\n",
      "PTRATIO       -0.9671      0.135     -7.179      0.000      -1.232      -0.702\n",
      "LSTAT         -0.5983      0.051    -11.754      0.000      -0.698      -0.498\n",
      "==============================================================================\n",
      "Omnibus:                      178.537   Durbin-Watson:                   0.995\n",
      "Prob(Omnibus):                  0.000   Jarque-Bera (JB):              800.563\n",
      "Skew:                           1.518   Prob(JB):                    1.45e-174\n",
      "Kurtosis:                       8.362   Cond. No.                     1.17e+04\n",
      "==============================================================================\n",
      "\n",
      "Warnings:\n",
      "[1] Standard Errors assume that the covariance matrix of the errors is correctly specified.\n",
      "[2] The condition number is large, 1.17e+04. This might indicate that there are\n",
      "strong multicollinearity or other numerical problems.\n"
     ]
    }
   ],
   "source": [
    "# 회귀 모델\n",
    "\n",
    "lr_model = smf.ols(formula= 'MEDV ~ ZN + INDUS + NOX + RM + AGE + DIS + RAD + TAX + PTRATIO + LSTAT', data = df_raw)\n",
    "lr_result = lr_model.fit()\n",
    "print(lr_result.summary())"
   ]
  },
  {
   "cell_type": "markdown",
   "metadata": {},
   "source": [
    "# 위 모델의 최종 회귀 식  \n",
    "y(MEDV) = 41.7685 + 0.0431 * ZN + 0.0435 * INDUS -17.5918 * NOX + 3.7193 * RM + 0.0063 * AGE -1.4127 + 0.2416 * RAD -0.0142 * TAX -0.9671 * PTRATIO - 0.5983 * LSTAT\n",
    "\n",
    "설명계수는 0.715입니다."
   ]
  },
  {
   "cell_type": "code",
   "execution_count": 82,
   "metadata": {},
   "outputs": [],
   "source": [
    "# train_test_split\n",
    "df_train_x, df_test_x, df_train_y, df_test_y = train_test_split(df_raw_x, df_raw_y, test_size = 0.3, random_state = 4321)"
   ]
  },
  {
   "cell_type": "code",
   "execution_count": 83,
   "metadata": {},
   "outputs": [],
   "source": [
    "# 예측\n",
    "lr_y_pred = lr_result.predict(df_test_x)"
   ]
  },
  {
   "cell_type": "code",
   "execution_count": 84,
   "metadata": {},
   "outputs": [],
   "source": [
    "# 평가\n",
    "mse.append(mean_squared_error(df_test_y,lr_y_pred))\n",
    "rmse.append(root_mean_squared_error(df_test_y,lr_y_pred))\n",
    "mae.append(root_mean_squared_error(df_test_y,lr_y_pred))\n",
    "mape.append(root_mean_squared_error(df_test_y,lr_y_pred))"
   ]
  },
  {
   "cell_type": "code",
   "execution_count": 85,
   "metadata": {},
   "outputs": [],
   "source": [
    "# 의사결정 나무\n",
    "\n",
    "# min_samples_leaf : 잎사귀 최소 자료 수\n",
    "para_depth = [depth for depth in range (1,11)]\n",
    "\n",
    "# min_samples_leaf : 잎사귀 최소 자료 수\n",
    "para_leaf = [n_tree * 10 for n_tree in range (1,21)]\n",
    "\n",
    "# min_samples_split : 분리 노드의 최소 자료 수\n",
    "para_split = [n_split * 2 for n_split in range (2,20)]\n",
    "\n",
    "estimator = DecisionTreeRegressor()\n",
    "# 구하고자 하는 parameter의 범위\n",
    "param_grid = {\"criterion\":['mse','friedman_mse','mae'],'max_features':['auto','sqrt','log2'],\n",
    "             'max_depth':para_depth, 'min_samples_split':para_split,\n",
    "             'min_samples_leaf':para_leaf}"
   ]
  },
  {
   "cell_type": "code",
   "execution_count": 86,
   "metadata": {},
   "outputs": [
    {
     "name": "stdout",
     "output_type": "stream",
     "text": [
      "Score on training set:0.873\n",
      "Score on test set:0.640\n"
     ]
    }
   ],
   "source": [
    "#설명력이 높은 최적 parameter 찾기\n",
    "grid_dt = GridSearchCV(estimator, param_grid, scoring='r2', n_jobs = -1)\n",
    "grid_dt.fit(df_train_x,df_train_y)\n",
    "\n",
    "print(\"Score on training set:{:.3f}\".format(grid_dt.score(df_train_x, df_train_y)))\n",
    "print(\"Score on test set:{:.3f}\".format(grid_dt.score(df_test_x, df_test_y)))"
   ]
  },
  {
   "cell_type": "code",
   "execution_count": 87,
   "metadata": {},
   "outputs": [],
   "source": [
    "# 예측\n",
    "dt_y_pred = grid_dt.predict(df_test_x)"
   ]
  },
  {
   "cell_type": "code",
   "execution_count": 88,
   "metadata": {},
   "outputs": [],
   "source": [
    "# 평가\n",
    "mse.append(mean_squared_error(df_test_y,dt_y_pred))\n",
    "rmse.append(root_mean_squared_error(df_test_y,dt_y_pred))\n",
    "mae.append(root_mean_squared_error(df_test_y,dt_y_pred))\n",
    "mape.append(root_mean_squared_error(df_test_y,dt_y_pred))"
   ]
  },
  {
   "cell_type": "code",
   "execution_count": 89,
   "metadata": {},
   "outputs": [
    {
     "name": "stdout",
     "output_type": "stream",
     "text": [
      "Score on training set:0.967\n",
      "Score on test set:0.722\n"
     ]
    }
   ],
   "source": [
    "# 랜덤 포레스트\n",
    "\n",
    "para_leaf = [n_leaf * 1 for n_leaf in range (1,21)]\n",
    "para_split = [n_split * 2 for n_split in range (2,21)]\n",
    "para_depth = [depth for depth in range (1,11)]\n",
    "\n",
    "estimator = RandomForestRegressor(random_state = 4321)\n",
    "\n",
    "# 구하고자 하는 parameter의 범위\n",
    "param_grid = {'max_depth':para_depth, 'min_samples_split':para_split, 'min_samples_leaf':para_leaf}\n",
    "\n",
    "#설명력이 높은 최적 parameter 찾기\n",
    "rf_model = GridSearchCV(estimator, param_grid, scoring='r2', n_jobs = -1)\n",
    "rf_model.fit(df_train_x,df_train_y)\n",
    "\n",
    "print(\"Score on training set:{:.3f}\".format(rf_model.score(df_train_x, df_train_y)))\n",
    "print(\"Score on test set:{:.3f}\".format(rf_model.score(df_test_x, df_test_y)))"
   ]
  },
  {
   "cell_type": "code",
   "execution_count": 91,
   "metadata": {},
   "outputs": [],
   "source": [
    "# 예측\n",
    "rf_y_pred = rf_model.predict(df_test_x)"
   ]
  },
  {
   "cell_type": "code",
   "execution_count": 92,
   "metadata": {},
   "outputs": [],
   "source": [
    "# 평가\n",
    "mse.append(mean_squared_error(df_test_y,rf_y_pred))\n",
    "rmse.append(root_mean_squared_error(df_test_y,rf_y_pred))\n",
    "mae.append(root_mean_squared_error(df_test_y,rf_y_pred))\n",
    "mape.append(root_mean_squared_error(df_test_y,rf_y_pred))"
   ]
  },
  {
   "cell_type": "code",
   "execution_count": null,
   "metadata": {},
   "outputs": [],
   "source": [
    "# 그래디언트 부스트\n",
    "\n",
    "para_leaf = [n_leaf * 1 for n_leaf in range (1,21)]\n",
    "para_split = [n_split * 2 for n_split in range (1,21)]\n",
    "para_depth = [depth for depth in range (1,11)]\n",
    "para_lr = [lr*0.1 for lr in range(1,10)]\n",
    "\n",
    "estimator = GradientBoostingRegressor(random_state = 1234)\n",
    "# 구하고자 하는 parameter의 범위\n",
    "param_grid = {\"criterion\":['mse','friedman_mse','mae'],'max_features':['auto','sqrt','log2'],\n",
    "             'learning_rate':para_lr, 'max_depth':para_depth, 'min_samples_leaf':para_leaf}\n",
    "\n",
    "grid_gb = GridSearchCV(estimator, param_grid, scoring='r2', n_jobs = -1)\n",
    "grid_gb.fit(df_train_x, df_train_y)\n",
    "\n",
    "print('best estimator model: \\n{}'.format(grid_gb.best_estimator_))\n",
    "print('\\nbest parameter: \\n{}'.format(grid_gb.gest_params_))\n",
    "print('\\nbest score: \\n {}'.format(grid_gb.best_score_.round(3)))"
   ]
  },
  {
   "cell_type": "code",
   "execution_count": 93,
   "metadata": {},
   "outputs": [],
   "source": [
    "grid_gb = GradientBoostingRegressor(alpha=0.9, ccp_alpha=0.0, criterion='mae', init=None,\n",
    "                          learning_rate=0.30000000000000004, loss='ls',\n",
    "                          max_depth=3, max_features='auto', max_leaf_nodes=None,\n",
    "                          min_impurity_decrease=0.0, min_impurity_split=None,\n",
    "                          min_samples_leaf=5, min_samples_split=2,\n",
    "                          min_weight_fraction_leaf=0.0, n_estimators=100,\n",
    "                          n_iter_no_change=None, presort='deprecated',\n",
    "                          random_state=4321, subsample=1.0, tol=0.0001,\n",
    "                          validation_fraction=0.1, verbose=0, warm_start=False)"
   ]
  },
  {
   "cell_type": "code",
   "execution_count": 94,
   "metadata": {},
   "outputs": [
    {
     "data": {
      "text/plain": [
       "GradientBoostingRegressor(alpha=0.9, ccp_alpha=0.0, criterion='mae', init=None,\n",
       "                          learning_rate=0.30000000000000004, loss='ls',\n",
       "                          max_depth=3, max_features='auto', max_leaf_nodes=None,\n",
       "                          min_impurity_decrease=0.0, min_impurity_split=None,\n",
       "                          min_samples_leaf=5, min_samples_split=2,\n",
       "                          min_weight_fraction_leaf=0.0, n_estimators=100,\n",
       "                          n_iter_no_change=None, presort='deprecated',\n",
       "                          random_state=4321, subsample=1.0, tol=0.0001,\n",
       "                          validation_fraction=0.1, verbose=0, warm_start=False)"
      ]
     },
     "execution_count": 94,
     "metadata": {},
     "output_type": "execute_result"
    }
   ],
   "source": [
    "grid_gb.fit(df_train_x, df_train_y)"
   ]
  },
  {
   "cell_type": "code",
   "execution_count": 95,
   "metadata": {},
   "outputs": [],
   "source": [
    "# 예측\n",
    "gb_y_pred = grid_gb.predict(df_test_x)"
   ]
  },
  {
   "cell_type": "code",
   "execution_count": 96,
   "metadata": {},
   "outputs": [],
   "source": [
    "# 평가\n",
    "mse.append(mean_squared_error(df_test_y,gb_y_pred))\n",
    "rmse.append(root_mean_squared_error(df_test_y,gb_y_pred))\n",
    "mae.append(root_mean_squared_error(df_test_y,gb_y_pred))\n",
    "mape.append(root_mean_squared_error(df_test_y,gb_y_pred))"
   ]
  },
  {
   "cell_type": "code",
   "execution_count": 97,
   "metadata": {},
   "outputs": [
    {
     "name": "stdout",
     "output_type": "stream",
     "text": [
      "[32.50649088542034, 31.09466433399428, 23.981947352518745, 19.362353688042354]\n",
      "[5.701446385385058, 5.576258990935973, 4.89713664834041, 4.400267456421525]\n",
      "[5.701446385385058, 5.576258990935973, 4.89713664834041, 4.400267456421525]\n",
      "[5.701446385385058, 5.576258990935973, 4.89713664834041, 4.400267456421525]\n",
      "['linear regression', 'decision tree', 'random forest', 'gradient boosting']\n"
     ]
    }
   ],
   "source": [
    "print(mse)\n",
    "print(rmse)\n",
    "print(mae)\n",
    "print(mape)\n",
    "print(models)"
   ]
  },
  {
   "cell_type": "code",
   "execution_count": 98,
   "metadata": {},
   "outputs": [
    {
     "data": {
      "image/png": "[encoded data removed]",
      "text/plain": [
       "<Figure size 1080x720 with 4 Axes>"
      ]
     },
     "metadata": {
      "needs_background": "light"
     },
     "output_type": "display_data"
    }
   ],
   "source": [
    "# 모델 최종 평가\n",
    "fig, ax = plt.subplots(2,2, figsize = (15,10))\n",
    "ax[0,0].bar(models, mse)\n",
    "ax[0,0].set_title('mse').set_fontsize(15)\n",
    "\n",
    "ax[0,1].bar(models, rmse)\n",
    "ax[0,1].set_title('rmse').set_fontsize(15)\n",
    "\n",
    "\n",
    "ax[1,0].bar(models, mae)\n",
    "ax[1,0].set_title('mae').set_fontsize(15)\n",
    "\n",
    "ax[1,1].bar(models, mape)\n",
    "ax[1,1].set_title('mape').set_fontsize(15)"
   ]
  },
  {
   "cell_type": "markdown",
   "metadata": {},
   "source": [
    "# 결론\n",
    "\n",
    "gradient boosting의 평가 지표가 가장 좋게 나왔네요. 그런데 결국 이 모델이 가장 좋은 모델이라고 할 수 있을까요? 몇 가지 고려해야할 사항이 있을 것 같네요.\n",
    "\n",
    "   ***1. 데이터가 수집된 시간*** : 아주 오래된 데이터라면 현재의 트렌드를 반영하기 어렵습니다. \n",
    "\n",
    "   ***2. 선택한 피쳐의 타당성*** : 분석가 입장에서 가설을 세우고 여러 방법으로 검증해 나가면서 변수를 선택하였습니다. 그 과정에서 당연히 주                             관적 요소 (도메인 지식, 탐색적 분석에 의한 근거)가 개입되기 마련이며 실제 현업이였다면 실험을 여러번 수행하여 최적의 결과를 내는 것을 선택해야 할 것입니다. 타당성은 곧 모델의 결과와 직결됩니다.    \n",
    "\n",
    "   ***3. 목표변수 (금액)의 성질*** : MEDV는 금액의 중앙값입니다. 중앙값이 아무리 특이치에 영향을 덜 받는 경향성이라고 할 지라도 그 안에 있는 모든 관측치의 특성을 100% 대표하기는 어렵습니다. 그렇기 때문에 예측한 금액은 100% 맹신할 수 없으며 투자나 집 구매를 하기 전에 참고용으로는 괜찮을 듯 합니다.  \n",
    "\n",
    "결국 이번 프로젝트를 통해서 데이터를 해석하고 인사이트를 도출해내는 과정을 익힐 수 있어서 재미있는 경험이었습니다!!  "
   ]
  }
 ],
 "metadata": {
  "kernelspec": {
   "display_name": "Python 3",
   "language": "python",
   "name": "python3"
  },
  "language_info": {
   "codemirror_mode": {
    "name": "ipython",
    "version": 3
   },
   "file_extension": ".py",
   "mimetype": "text/x-python",
   "name": "python",
   "nbconvert_exporter": "python",
   "pygments_lexer": "ipython3",
   "version": "3.7.6"
  }
 },
 "nbformat": 4,
 "nbformat_minor": 4
}
